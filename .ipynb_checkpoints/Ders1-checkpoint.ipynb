{
 "cells": [
  {
   "cell_type": "code",
   "execution_count": 7,
   "id": "95710537",
   "metadata": {
    "collapsed": true
   },
   "outputs": [
    {
     "ename": "FileNotFoundError",
     "evalue": "[Errno 2] No such file or directory: 'resources/clean_test.csv'",
     "output_type": "error",
     "traceback": [
      "\u001b[0;31m---------------------------------------------------------------------------\u001b[0m",
      "\u001b[0;31mFileNotFoundError\u001b[0m                         Traceback (most recent call last)",
      "\u001b[0;32m/tmp/ipykernel_11948/2659986706.py\u001b[0m in \u001b[0;36m<module>\u001b[0;34m\u001b[0m\n\u001b[1;32m      1\u001b[0m \u001b[0;32mimport\u001b[0m \u001b[0mpandas\u001b[0m \u001b[0;32mas\u001b[0m \u001b[0mpd\u001b[0m\u001b[0;34m\u001b[0m\u001b[0;34m\u001b[0m\u001b[0m\n\u001b[0;32m----> 2\u001b[0;31m \u001b[0mdf\u001b[0m\u001b[0;34m=\u001b[0m\u001b[0mpd\u001b[0m\u001b[0;34m.\u001b[0m\u001b[0mread_csv\u001b[0m\u001b[0;34m(\u001b[0m\u001b[0;34m\"resources/clean_test.csv\"\u001b[0m\u001b[0;34m)\u001b[0m\u001b[0;34m\u001b[0m\u001b[0;34m\u001b[0m\u001b[0m\n\u001b[0m\u001b[1;32m      3\u001b[0m \u001b[0mdf\u001b[0m \u001b[0;31m#ilk satır ve son satırları getirerek data framemworkü getirir.\u001b[0m\u001b[0;34m\u001b[0m\u001b[0;34m\u001b[0m\u001b[0m\n\u001b[1;32m      4\u001b[0m \u001b[0mdf\u001b[0m\u001b[0;34m.\u001b[0m\u001b[0mhead\u001b[0m\u001b[0;34m(\u001b[0m\u001b[0;34m)\u001b[0m \u001b[0;31m#yukarıdan kaç satır istiyorsan onu gösterir. Default 5 tane.\u001b[0m\u001b[0;34m\u001b[0m\u001b[0;34m\u001b[0m\u001b[0m\n\u001b[1;32m      5\u001b[0m \u001b[0mdf\u001b[0m\u001b[0;34m.\u001b[0m\u001b[0mtail\u001b[0m\u001b[0;34m(\u001b[0m\u001b[0;34m)\u001b[0m \u001b[0;31m#sondan default olarak 5 tane satır gösterir. İstersen değer veririsin o kadar gösterir.\u001b[0m\u001b[0;34m\u001b[0m\u001b[0;34m\u001b[0m\u001b[0m\n",
      "\u001b[0;32m/usr/lib/python3/dist-packages/pandas/util/_decorators.py\u001b[0m in \u001b[0;36mwrapper\u001b[0;34m(*args, **kwargs)\u001b[0m\n\u001b[1;32m    309\u001b[0m                     \u001b[0mstacklevel\u001b[0m\u001b[0;34m=\u001b[0m\u001b[0mstacklevel\u001b[0m\u001b[0;34m,\u001b[0m\u001b[0;34m\u001b[0m\u001b[0;34m\u001b[0m\u001b[0m\n\u001b[1;32m    310\u001b[0m                 )\n\u001b[0;32m--> 311\u001b[0;31m             \u001b[0;32mreturn\u001b[0m \u001b[0mfunc\u001b[0m\u001b[0;34m(\u001b[0m\u001b[0;34m*\u001b[0m\u001b[0margs\u001b[0m\u001b[0;34m,\u001b[0m \u001b[0;34m**\u001b[0m\u001b[0mkwargs\u001b[0m\u001b[0;34m)\u001b[0m\u001b[0;34m\u001b[0m\u001b[0;34m\u001b[0m\u001b[0m\n\u001b[0m\u001b[1;32m    312\u001b[0m \u001b[0;34m\u001b[0m\u001b[0m\n\u001b[1;32m    313\u001b[0m         \u001b[0;32mreturn\u001b[0m \u001b[0mwrapper\u001b[0m\u001b[0;34m\u001b[0m\u001b[0;34m\u001b[0m\u001b[0m\n",
      "\u001b[0;32m/usr/lib/python3/dist-packages/pandas/io/parsers/readers.py\u001b[0m in \u001b[0;36mread_csv\u001b[0;34m(filepath_or_buffer, sep, delimiter, header, names, index_col, usecols, squeeze, prefix, mangle_dupe_cols, dtype, engine, converters, true_values, false_values, skipinitialspace, skiprows, skipfooter, nrows, na_values, keep_default_na, na_filter, verbose, skip_blank_lines, parse_dates, infer_datetime_format, keep_date_col, date_parser, dayfirst, cache_dates, iterator, chunksize, compression, thousands, decimal, lineterminator, quotechar, quoting, doublequote, escapechar, comment, encoding, encoding_errors, dialect, error_bad_lines, warn_bad_lines, on_bad_lines, delim_whitespace, low_memory, memory_map, float_precision, storage_options)\u001b[0m\n\u001b[1;32m    584\u001b[0m     \u001b[0mkwds\u001b[0m\u001b[0;34m.\u001b[0m\u001b[0mupdate\u001b[0m\u001b[0;34m(\u001b[0m\u001b[0mkwds_defaults\u001b[0m\u001b[0;34m)\u001b[0m\u001b[0;34m\u001b[0m\u001b[0;34m\u001b[0m\u001b[0m\n\u001b[1;32m    585\u001b[0m \u001b[0;34m\u001b[0m\u001b[0m\n\u001b[0;32m--> 586\u001b[0;31m     \u001b[0;32mreturn\u001b[0m \u001b[0m_read\u001b[0m\u001b[0;34m(\u001b[0m\u001b[0mfilepath_or_buffer\u001b[0m\u001b[0;34m,\u001b[0m \u001b[0mkwds\u001b[0m\u001b[0;34m)\u001b[0m\u001b[0;34m\u001b[0m\u001b[0;34m\u001b[0m\u001b[0m\n\u001b[0m\u001b[1;32m    587\u001b[0m \u001b[0;34m\u001b[0m\u001b[0m\n\u001b[1;32m    588\u001b[0m \u001b[0;34m\u001b[0m\u001b[0m\n",
      "\u001b[0;32m/usr/lib/python3/dist-packages/pandas/io/parsers/readers.py\u001b[0m in \u001b[0;36m_read\u001b[0;34m(filepath_or_buffer, kwds)\u001b[0m\n\u001b[1;32m    480\u001b[0m \u001b[0;34m\u001b[0m\u001b[0m\n\u001b[1;32m    481\u001b[0m     \u001b[0;31m# Create the parser.\u001b[0m\u001b[0;34m\u001b[0m\u001b[0;34m\u001b[0m\u001b[0m\n\u001b[0;32m--> 482\u001b[0;31m     \u001b[0mparser\u001b[0m \u001b[0;34m=\u001b[0m \u001b[0mTextFileReader\u001b[0m\u001b[0;34m(\u001b[0m\u001b[0mfilepath_or_buffer\u001b[0m\u001b[0;34m,\u001b[0m \u001b[0;34m**\u001b[0m\u001b[0mkwds\u001b[0m\u001b[0;34m)\u001b[0m\u001b[0;34m\u001b[0m\u001b[0;34m\u001b[0m\u001b[0m\n\u001b[0m\u001b[1;32m    483\u001b[0m \u001b[0;34m\u001b[0m\u001b[0m\n\u001b[1;32m    484\u001b[0m     \u001b[0;32mif\u001b[0m \u001b[0mchunksize\u001b[0m \u001b[0;32mor\u001b[0m \u001b[0miterator\u001b[0m\u001b[0;34m:\u001b[0m\u001b[0;34m\u001b[0m\u001b[0;34m\u001b[0m\u001b[0m\n",
      "\u001b[0;32m/usr/lib/python3/dist-packages/pandas/io/parsers/readers.py\u001b[0m in \u001b[0;36m__init__\u001b[0;34m(self, f, engine, **kwds)\u001b[0m\n\u001b[1;32m    809\u001b[0m             \u001b[0mself\u001b[0m\u001b[0;34m.\u001b[0m\u001b[0moptions\u001b[0m\u001b[0;34m[\u001b[0m\u001b[0;34m\"has_index_names\"\u001b[0m\u001b[0;34m]\u001b[0m \u001b[0;34m=\u001b[0m \u001b[0mkwds\u001b[0m\u001b[0;34m[\u001b[0m\u001b[0;34m\"has_index_names\"\u001b[0m\u001b[0;34m]\u001b[0m\u001b[0;34m\u001b[0m\u001b[0;34m\u001b[0m\u001b[0m\n\u001b[1;32m    810\u001b[0m \u001b[0;34m\u001b[0m\u001b[0m\n\u001b[0;32m--> 811\u001b[0;31m         \u001b[0mself\u001b[0m\u001b[0;34m.\u001b[0m\u001b[0m_engine\u001b[0m \u001b[0;34m=\u001b[0m \u001b[0mself\u001b[0m\u001b[0;34m.\u001b[0m\u001b[0m_make_engine\u001b[0m\u001b[0;34m(\u001b[0m\u001b[0mself\u001b[0m\u001b[0;34m.\u001b[0m\u001b[0mengine\u001b[0m\u001b[0;34m)\u001b[0m\u001b[0;34m\u001b[0m\u001b[0;34m\u001b[0m\u001b[0m\n\u001b[0m\u001b[1;32m    812\u001b[0m \u001b[0;34m\u001b[0m\u001b[0m\n\u001b[1;32m    813\u001b[0m     \u001b[0;32mdef\u001b[0m \u001b[0mclose\u001b[0m\u001b[0;34m(\u001b[0m\u001b[0mself\u001b[0m\u001b[0;34m)\u001b[0m\u001b[0;34m:\u001b[0m\u001b[0;34m\u001b[0m\u001b[0;34m\u001b[0m\u001b[0m\n",
      "\u001b[0;32m/usr/lib/python3/dist-packages/pandas/io/parsers/readers.py\u001b[0m in \u001b[0;36m_make_engine\u001b[0;34m(self, engine)\u001b[0m\n\u001b[1;32m   1038\u001b[0m             )\n\u001b[1;32m   1039\u001b[0m         \u001b[0;31m# error: Too many arguments for \"ParserBase\"\u001b[0m\u001b[0;34m\u001b[0m\u001b[0;34m\u001b[0m\u001b[0m\n\u001b[0;32m-> 1040\u001b[0;31m         \u001b[0;32mreturn\u001b[0m \u001b[0mmapping\u001b[0m\u001b[0;34m[\u001b[0m\u001b[0mengine\u001b[0m\u001b[0;34m]\u001b[0m\u001b[0;34m(\u001b[0m\u001b[0mself\u001b[0m\u001b[0;34m.\u001b[0m\u001b[0mf\u001b[0m\u001b[0;34m,\u001b[0m \u001b[0;34m**\u001b[0m\u001b[0mself\u001b[0m\u001b[0;34m.\u001b[0m\u001b[0moptions\u001b[0m\u001b[0;34m)\u001b[0m  \u001b[0;31m# type: ignore[call-arg]\u001b[0m\u001b[0;34m\u001b[0m\u001b[0;34m\u001b[0m\u001b[0m\n\u001b[0m\u001b[1;32m   1041\u001b[0m \u001b[0;34m\u001b[0m\u001b[0m\n\u001b[1;32m   1042\u001b[0m     \u001b[0;32mdef\u001b[0m \u001b[0m_failover_to_python\u001b[0m\u001b[0;34m(\u001b[0m\u001b[0mself\u001b[0m\u001b[0;34m)\u001b[0m\u001b[0;34m:\u001b[0m\u001b[0;34m\u001b[0m\u001b[0;34m\u001b[0m\u001b[0m\n",
      "\u001b[0;32m/usr/lib/python3/dist-packages/pandas/io/parsers/c_parser_wrapper.py\u001b[0m in \u001b[0;36m__init__\u001b[0;34m(self, src, **kwds)\u001b[0m\n\u001b[1;32m     49\u001b[0m \u001b[0;34m\u001b[0m\u001b[0m\n\u001b[1;32m     50\u001b[0m         \u001b[0;31m# open handles\u001b[0m\u001b[0;34m\u001b[0m\u001b[0;34m\u001b[0m\u001b[0m\n\u001b[0;32m---> 51\u001b[0;31m         \u001b[0mself\u001b[0m\u001b[0;34m.\u001b[0m\u001b[0m_open_handles\u001b[0m\u001b[0;34m(\u001b[0m\u001b[0msrc\u001b[0m\u001b[0;34m,\u001b[0m \u001b[0mkwds\u001b[0m\u001b[0;34m)\u001b[0m\u001b[0;34m\u001b[0m\u001b[0;34m\u001b[0m\u001b[0m\n\u001b[0m\u001b[1;32m     52\u001b[0m         \u001b[0;32massert\u001b[0m \u001b[0mself\u001b[0m\u001b[0;34m.\u001b[0m\u001b[0mhandles\u001b[0m \u001b[0;32mis\u001b[0m \u001b[0;32mnot\u001b[0m \u001b[0;32mNone\u001b[0m\u001b[0;34m\u001b[0m\u001b[0;34m\u001b[0m\u001b[0m\n\u001b[1;32m     53\u001b[0m \u001b[0;34m\u001b[0m\u001b[0m\n",
      "\u001b[0;32m/usr/lib/python3/dist-packages/pandas/io/parsers/base_parser.py\u001b[0m in \u001b[0;36m_open_handles\u001b[0;34m(self, src, kwds)\u001b[0m\n\u001b[1;32m    220\u001b[0m         \u001b[0mLet\u001b[0m \u001b[0mthe\u001b[0m \u001b[0mreaders\u001b[0m \u001b[0mopen\u001b[0m \u001b[0mIOHandles\u001b[0m \u001b[0mafter\u001b[0m \u001b[0mthey\u001b[0m \u001b[0mare\u001b[0m \u001b[0mdone\u001b[0m \u001b[0;32mwith\u001b[0m \u001b[0mtheir\u001b[0m \u001b[0mpotential\u001b[0m \u001b[0mraises\u001b[0m\u001b[0;34m.\u001b[0m\u001b[0;34m\u001b[0m\u001b[0;34m\u001b[0m\u001b[0m\n\u001b[1;32m    221\u001b[0m         \"\"\"\n\u001b[0;32m--> 222\u001b[0;31m         self.handles = get_handle(\n\u001b[0m\u001b[1;32m    223\u001b[0m             \u001b[0msrc\u001b[0m\u001b[0;34m,\u001b[0m\u001b[0;34m\u001b[0m\u001b[0;34m\u001b[0m\u001b[0m\n\u001b[1;32m    224\u001b[0m             \u001b[0;34m\"r\"\u001b[0m\u001b[0;34m,\u001b[0m\u001b[0;34m\u001b[0m\u001b[0;34m\u001b[0m\u001b[0m\n",
      "\u001b[0;32m/usr/lib/python3/dist-packages/pandas/io/common.py\u001b[0m in \u001b[0;36mget_handle\u001b[0;34m(path_or_buf, mode, encoding, compression, memory_map, is_text, errors, storage_options)\u001b[0m\n\u001b[1;32m    700\u001b[0m         \u001b[0;32mif\u001b[0m \u001b[0mioargs\u001b[0m\u001b[0;34m.\u001b[0m\u001b[0mencoding\u001b[0m \u001b[0;32mand\u001b[0m \u001b[0;34m\"b\"\u001b[0m \u001b[0;32mnot\u001b[0m \u001b[0;32min\u001b[0m \u001b[0mioargs\u001b[0m\u001b[0;34m.\u001b[0m\u001b[0mmode\u001b[0m\u001b[0;34m:\u001b[0m\u001b[0;34m\u001b[0m\u001b[0;34m\u001b[0m\u001b[0m\n\u001b[1;32m    701\u001b[0m             \u001b[0;31m# Encoding\u001b[0m\u001b[0;34m\u001b[0m\u001b[0;34m\u001b[0m\u001b[0m\n\u001b[0;32m--> 702\u001b[0;31m             handle = open(\n\u001b[0m\u001b[1;32m    703\u001b[0m                 \u001b[0mhandle\u001b[0m\u001b[0;34m,\u001b[0m\u001b[0;34m\u001b[0m\u001b[0;34m\u001b[0m\u001b[0m\n\u001b[1;32m    704\u001b[0m                 \u001b[0mioargs\u001b[0m\u001b[0;34m.\u001b[0m\u001b[0mmode\u001b[0m\u001b[0;34m,\u001b[0m\u001b[0;34m\u001b[0m\u001b[0;34m\u001b[0m\u001b[0m\n",
      "\u001b[0;31mFileNotFoundError\u001b[0m: [Errno 2] No such file or directory: 'resources/clean_test.csv'"
     ]
    }
   ],
   "source": [
    "\n",
    "import pandas as pd\n",
    "df=pd.read_csv(\"resources/clean_test.csv\")\n",
    "df #ilk satır ve son satırları getirerek data framemworkü getirir.\n",
    "df.head() #yukarıdan kaç satır istiyorsan onu gösterir. Default 5 tane.\n",
    "df.tail() #sondan default olarak 5 tane satır gösterir. İstersen değer veririsin o kadar gösterir.\n",
    "df.shape #kaç satır ve sütun olduğunu gösterir.\n",
    "dg.info() #dataframe hakkında bilgi verir. object string demektir.\n",
    "df.describe().T #sayısal alanlar hakkında bilgi verir. .T transpoz alını ki daha net gözüksün."
   ]
  },
  {
   "cell_type": "code",
   "execution_count": 9,
   "id": "28655c71",
   "metadata": {},
   "outputs": [
    {
     "data": {
      "text/plain": [
       "['elma', 'armut', 'erik']"
      ]
     },
     "execution_count": 9,
     "metadata": {},
     "output_type": "execute_result"
    }
   ],
   "source": [
    "meyveler=[\"elma\",\"armut\",\"erik\"]\n",
    "meyveler"
   ]
  },
  {
   "cell_type": "code",
   "execution_count": 8,
   "id": "24fce3a8",
   "metadata": {},
   "outputs": [
    {
     "data": {
      "text/plain": [
       "0     elma\n",
       "1    armut\n",
       "2     erik\n",
       "dtype: object"
      ]
     },
     "execution_count": 8,
     "metadata": {},
     "output_type": "execute_result"
    }
   ],
   "source": [
    "#Seriler\n",
    "#tek satırda tanımalan veriler serilerdir.\n",
    "meyveler=[\"elma\",\"armut\",\"erik\"]\n",
    "pd.Series(meyveler)\n"
   ]
  },
  {
   "cell_type": "code",
   "execution_count": 4,
   "id": "70249b8b",
   "metadata": {},
   "outputs": [],
   "source": [
    "vize_notlari=[45,35,60,12]"
   ]
  },
  {
   "cell_type": "code",
   "execution_count": 5,
   "id": "12378778",
   "metadata": {},
   "outputs": [
    {
     "data": {
      "text/plain": [
       "0    45\n",
       "1    35\n",
       "2    60\n",
       "3    12\n",
       "dtype: int64"
      ]
     },
     "execution_count": 5,
     "metadata": {},
     "output_type": "execute_result"
    }
   ],
   "source": [
    "pd.Series(vize_notlari)"
   ]
  },
  {
   "cell_type": "code",
   "execution_count": 11,
   "id": "5297b931",
   "metadata": {},
   "outputs": [],
   "source": [
    "askerlik=[True,False,True,True]\n"
   ]
  },
  {
   "cell_type": "code",
   "execution_count": 12,
   "id": "98b0755f",
   "metadata": {},
   "outputs": [
    {
     "data": {
      "text/plain": [
       "0     True\n",
       "1    False\n",
       "2     True\n",
       "3     True\n",
       "dtype: bool"
      ]
     },
     "execution_count": 12,
     "metadata": {},
     "output_type": "execute_result"
    }
   ],
   "source": [
    "pd.Series(askerlik)"
   ]
  },
  {
   "cell_type": "code",
   "execution_count": 13,
   "id": "13fa4708",
   "metadata": {},
   "outputs": [],
   "source": [
    "karisik_liste=[13,\"merhaba\",True,3.14]"
   ]
  },
  {
   "cell_type": "code",
   "execution_count": 14,
   "id": "30d6f794",
   "metadata": {},
   "outputs": [
    {
     "data": {
      "text/plain": [
       "0         13\n",
       "1    merhaba\n",
       "2       True\n",
       "3       3.14\n",
       "dtype: object"
      ]
     },
     "execution_count": 14,
     "metadata": {},
     "output_type": "execute_result"
    }
   ],
   "source": [
    "pd.Series(karisik_liste)"
   ]
  },
  {
   "cell_type": "code",
   "execution_count": 15,
   "id": "70e73443",
   "metadata": {},
   "outputs": [],
   "source": [
    "meyve_renk={\n",
    "    \"elma\":\"kırmızı\",\n",
    "    \"kavun\":\"sarı\",\n",
    "    \"karpuz\":\"yeşil\",\n",
    "    \"üzüm\":\"siyah\"\n",
    "}"
   ]
  },
  {
   "cell_type": "code",
   "execution_count": 16,
   "id": "88cf175b",
   "metadata": {},
   "outputs": [
    {
     "data": {
      "text/plain": [
       "elma      kırmızı\n",
       "kavun        sarı\n",
       "karpuz      yeşil\n",
       "üzüm        siyah\n",
       "dtype: object"
      ]
     },
     "execution_count": 16,
     "metadata": {},
     "output_type": "execute_result"
    }
   ],
   "source": [
    "pd.Series(meyve_renk)"
   ]
  },
  {
   "cell_type": "code",
   "execution_count": 17,
   "id": "26037992",
   "metadata": {},
   "outputs": [
    {
     "data": {
      "text/plain": [
       "0     3.0\n",
       "1    12.0\n",
       "2    34.0\n",
       "3    56.0\n",
       "4     NaN\n",
       "dtype: float64"
      ]
     },
     "execution_count": 17,
     "metadata": {},
     "output_type": "execute_result"
    }
   ],
   "source": [
    "fiyatlar=[3,12,34,56, None]\n",
    "fiyatlar_series=pd.Series(fiyatlar)\n",
    "fiyatlar_series"
   ]
  },
  {
   "cell_type": "code",
   "execution_count": 18,
   "id": "97a2e128",
   "metadata": {},
   "outputs": [
    {
     "data": {
      "text/plain": [
       "105.0"
      ]
     },
     "execution_count": 18,
     "metadata": {},
     "output_type": "execute_result"
    }
   ],
   "source": [
    "#Methodlar\n",
    "\n",
    "\n",
    "fiyatlar_series.sum()"
   ]
  },
  {
   "cell_type": "code",
   "execution_count": 19,
   "id": "fed00ec8",
   "metadata": {},
   "outputs": [
    {
     "data": {
      "text/plain": [
       "68544.0"
      ]
     },
     "execution_count": 19,
     "metadata": {},
     "output_type": "execute_result"
    }
   ],
   "source": [
    "fiyatlar_series.product()"
   ]
  },
  {
   "cell_type": "markdown",
   "id": "036f7bc8",
   "metadata": {},
   "source": [
    "Seri içerisindeki elemanların çarpımını bulur."
   ]
  },
  {
   "cell_type": "code",
   "execution_count": 20,
   "id": "39ab36c9",
   "metadata": {},
   "outputs": [
    {
     "data": {
      "text/plain": [
       "26.25"
      ]
     },
     "execution_count": 20,
     "metadata": {},
     "output_type": "execute_result"
    }
   ],
   "source": [
    "fiyatlar_series.mean()"
   ]
  },
  {
   "cell_type": "markdown",
   "id": "794db255",
   "metadata": {},
   "source": [
    "aritmetik ortalamasını bulur."
   ]
  },
  {
   "cell_type": "code",
   "execution_count": 21,
   "id": "042db4f2",
   "metadata": {},
   "outputs": [
    {
     "data": {
      "text/plain": [
       "23.725864929790582"
      ]
     },
     "execution_count": 21,
     "metadata": {},
     "output_type": "execute_result"
    }
   ],
   "source": [
    "fiyatlar_series.std()"
   ]
  },
  {
   "cell_type": "markdown",
   "id": "848cf31c",
   "metadata": {},
   "source": [
    "standart sapmasını bulur."
   ]
  },
  {
   "cell_type": "code",
   "execution_count": 22,
   "id": "753b3a2f",
   "metadata": {},
   "outputs": [
    {
     "data": {
      "text/plain": [
       "23.0"
      ]
     },
     "execution_count": 22,
     "metadata": {},
     "output_type": "execute_result"
    }
   ],
   "source": [
    "fiyatlar_series.median() #medyan"
   ]
  },
  {
   "cell_type": "code",
   "execution_count": null,
   "id": "c5f44dcc",
   "metadata": {},
   "outputs": [],
   "source": [
    "fiyatlar_series.mode() #modu"
   ]
  },
  {
   "cell_type": "code",
   "execution_count": null,
   "id": "dd3bbfbb",
   "metadata": {},
   "outputs": [],
   "source": [
    "fiyatlar_series.min()"
   ]
  },
  {
   "cell_type": "code",
   "execution_count": null,
   "id": "8e31ffd1",
   "metadata": {},
   "outputs": [],
   "source": [
    "fiyatlar_series.max()"
   ]
  },
  {
   "cell_type": "code",
   "execution_count": null,
   "id": "dd954845",
   "metadata": {},
   "outputs": [],
   "source": [
    "fiyatlar_series.describe() #toplu"
   ]
  },
  {
   "cell_type": "code",
   "execution_count": 23,
   "id": "eedb89f2",
   "metadata": {},
   "outputs": [
    {
     "data": {
      "text/plain": [
       "4"
      ]
     },
     "execution_count": 23,
     "metadata": {},
     "output_type": "execute_result"
    }
   ],
   "source": [
    "fiyatlar_series.count() #sayısı. none veri varsa saymaz"
   ]
  },
  {
   "cell_type": "code",
   "execution_count": 24,
   "id": "9ae7c70d",
   "metadata": {},
   "outputs": [
    {
     "data": {
      "text/plain": [
       "5"
      ]
     },
     "execution_count": 24,
     "metadata": {},
     "output_type": "execute_result"
    }
   ],
   "source": [
    "#Özellikler- Attributes\n",
    "\n",
    "fiyatlar_series.size #none verileri de sayar"
   ]
  },
  {
   "cell_type": "code",
   "execution_count": 25,
   "id": "fc960123",
   "metadata": {},
   "outputs": [
    {
     "data": {
      "text/plain": [
       "True"
      ]
     },
     "execution_count": 25,
     "metadata": {},
     "output_type": "execute_result"
    }
   ],
   "source": [
    "fiyatlar_series.is_unique #her bir elemandan bir tane mi var."
   ]
  },
  {
   "cell_type": "code",
   "execution_count": 26,
   "id": "044648cc",
   "metadata": {},
   "outputs": [
    {
     "data": {
      "text/plain": [
       "array([ 3., 12., 34., 56., nan])"
      ]
     },
     "execution_count": 26,
     "metadata": {},
     "output_type": "execute_result"
    }
   ],
   "source": [
    "fiyatlar_series.values #içindeki değerleri getirir."
   ]
  },
  {
   "cell_type": "code",
   "execution_count": null,
   "id": "6edd65be",
   "metadata": {},
   "outputs": [],
   "source": [
    "type(fiyatlar_series.values) #numpy kütüphanesinin arryi. Pythonda array veri tipi yok"
   ]
  },
  {
   "cell_type": "code",
   "execution_count": null,
   "id": "eae17c44",
   "metadata": {},
   "outputs": [],
   "source": [
    "fiyatlar_series.index #kaçtan başlayıp kaçta durup kaçar kaçar arttığını verir."
   ]
  },
  {
   "cell_type": "code",
   "execution_count": null,
   "id": "aec61738",
   "metadata": {},
   "outputs": [],
   "source": [
    "type(fiyatlar_series.index)"
   ]
  },
  {
   "cell_type": "code",
   "execution_count": 27,
   "id": "a0057264",
   "metadata": {},
   "outputs": [
    {
     "data": {
      "text/plain": [
       "dtype('float64')"
      ]
     },
     "execution_count": 27,
     "metadata": {},
     "output_type": "execute_result"
    }
   ],
   "source": [
    "fiyatlar_series.dtype #veri tipini verir."
   ]
  },
  {
   "cell_type": "code",
   "execution_count": 32,
   "id": "21577260",
   "metadata": {},
   "outputs": [
    {
     "data": {
      "text/plain": [
       "pazartesi      elma\n",
       "salı          armut\n",
       "çarşamba       üzüm\n",
       "perşembe     karpuz\n",
       "cuma           erik\n",
       "dtype: object"
      ]
     },
     "execution_count": 32,
     "metadata": {},
     "output_type": "execute_result"
    }
   ],
   "source": [
    "meyveler=[\"elma\",\"armut\",\"üzüm\",\"karpuz\",\"erik\"]\n",
    "gunler=[\"pazartesi\",\"salı\",\"çarşamba\",\"perşembe\",\"cuma\"]\n",
    "\n",
    "pd.Series(meyveler,gunler) #sırasıyla verilir.İlki value, ikincisi index"
   ]
  },
  {
   "cell_type": "code",
   "execution_count": 29,
   "id": "4162dee9",
   "metadata": {},
   "outputs": [
    {
     "data": {
      "text/plain": [
       "pazartesi      elma\n",
       "salı          armut\n",
       "çarşamba       üzüm\n",
       "perşembe     karpuz\n",
       "cuma           erik\n",
       "dtype: object"
      ]
     },
     "execution_count": 29,
     "metadata": {},
     "output_type": "execute_result"
    }
   ],
   "source": [
    "pd.Series(index=gunler, data=meyveler) #index ve data kendin verilir."
   ]
  },
  {
   "cell_type": "code",
   "execution_count": 33,
   "id": "f3e88c3a",
   "metadata": {},
   "outputs": [
    {
     "data": {
      "text/html": [
       "<div>\n",
       "<style scoped>\n",
       "    .dataframe tbody tr th:only-of-type {\n",
       "        vertical-align: middle;\n",
       "    }\n",
       "\n",
       "    .dataframe tbody tr th {\n",
       "        vertical-align: top;\n",
       "    }\n",
       "\n",
       "    .dataframe thead th {\n",
       "        text-align: right;\n",
       "    }\n",
       "</style>\n",
       "<table border=\"1\" class=\"dataframe\">\n",
       "  <thead>\n",
       "    <tr style=\"text-align: right;\">\n",
       "      <th></th>\n",
       "      <th>Pokemon</th>\n",
       "      <th>Type</th>\n",
       "    </tr>\n",
       "  </thead>\n",
       "  <tbody>\n",
       "    <tr>\n",
       "      <th>0</th>\n",
       "      <td>Bulbasaur</td>\n",
       "      <td>Grass</td>\n",
       "    </tr>\n",
       "    <tr>\n",
       "      <th>1</th>\n",
       "      <td>Ivysaur</td>\n",
       "      <td>Grass</td>\n",
       "    </tr>\n",
       "    <tr>\n",
       "      <th>2</th>\n",
       "      <td>Venusaur</td>\n",
       "      <td>Grass</td>\n",
       "    </tr>\n",
       "    <tr>\n",
       "      <th>3</th>\n",
       "      <td>Charmander</td>\n",
       "      <td>Fire</td>\n",
       "    </tr>\n",
       "    <tr>\n",
       "      <th>4</th>\n",
       "      <td>Charmeleon</td>\n",
       "      <td>Fire</td>\n",
       "    </tr>\n",
       "    <tr>\n",
       "      <th>...</th>\n",
       "      <td>...</td>\n",
       "      <td>...</td>\n",
       "    </tr>\n",
       "    <tr>\n",
       "      <th>716</th>\n",
       "      <td>Yveltal</td>\n",
       "      <td>Dark</td>\n",
       "    </tr>\n",
       "    <tr>\n",
       "      <th>717</th>\n",
       "      <td>Zygarde</td>\n",
       "      <td>Dragon</td>\n",
       "    </tr>\n",
       "    <tr>\n",
       "      <th>718</th>\n",
       "      <td>Diancie</td>\n",
       "      <td>Rock</td>\n",
       "    </tr>\n",
       "    <tr>\n",
       "      <th>719</th>\n",
       "      <td>Hoopa</td>\n",
       "      <td>Psychic</td>\n",
       "    </tr>\n",
       "    <tr>\n",
       "      <th>720</th>\n",
       "      <td>Volcanion</td>\n",
       "      <td>Fire</td>\n",
       "    </tr>\n",
       "  </tbody>\n",
       "</table>\n",
       "<p>721 rows × 2 columns</p>\n",
       "</div>"
      ],
      "text/plain": [
       "        Pokemon     Type\n",
       "0     Bulbasaur    Grass\n",
       "1       Ivysaur    Grass\n",
       "2      Venusaur    Grass\n",
       "3    Charmander     Fire\n",
       "4    Charmeleon     Fire\n",
       "..          ...      ...\n",
       "716     Yveltal     Dark\n",
       "717     Zygarde   Dragon\n",
       "718     Diancie     Rock\n",
       "719       Hoopa  Psychic\n",
       "720   Volcanion     Fire\n",
       "\n",
       "[721 rows x 2 columns]"
      ]
     },
     "execution_count": 33,
     "metadata": {},
     "output_type": "execute_result"
    }
   ],
   "source": [
    "pd.read_csv(\"resources/pokemon.csv\")\n"
   ]
  },
  {
   "cell_type": "code",
   "execution_count": 34,
   "id": "4173dc98",
   "metadata": {},
   "outputs": [
    {
     "data": {
      "text/plain": [
       "0       Bulbasaur\n",
       "1         Ivysaur\n",
       "2        Venusaur\n",
       "3      Charmander\n",
       "4      Charmeleon\n",
       "          ...    \n",
       "716       Yveltal\n",
       "717       Zygarde\n",
       "718       Diancie\n",
       "719         Hoopa\n",
       "720     Volcanion\n",
       "Name: Pokemon, Length: 721, dtype: object"
      ]
     },
     "execution_count": 34,
     "metadata": {},
     "output_type": "execute_result"
    }
   ],
   "source": [
    "pd.read_csv(\"resources/pokemon.csv\",usecols=[\"Pokemon\"]).squeeze(\"columns\") #seri şeklinde yazdırır."
   ]
  },
  {
   "cell_type": "code",
   "execution_count": 35,
   "id": "c99e9380",
   "metadata": {},
   "outputs": [
    {
     "data": {
      "text/plain": [
       "pandas.core.series.Series"
      ]
     },
     "execution_count": 35,
     "metadata": {},
     "output_type": "execute_result"
    }
   ],
   "source": [
    "type(pd.read_csv(\"resources/pokemon.csv\",usecols=[\"Pokemon\"]).squeeze(\"columns\")) #seri tipine çevrildi."
   ]
  },
  {
   "cell_type": "code",
   "execution_count": 36,
   "id": "d02d317a",
   "metadata": {},
   "outputs": [],
   "source": [
    "pokemon=pd.read_csv(\"resources/pokemon.csv\",usecols=[\"Pokemon\"]).squeeze(\"columns\")"
   ]
  },
  {
   "cell_type": "code",
   "execution_count": 37,
   "id": "f9f743f7",
   "metadata": {},
   "outputs": [
    {
     "data": {
      "text/plain": [
       "0     Bulbasaur\n",
       "1       Ivysaur\n",
       "2      Venusaur\n",
       "3    Charmander\n",
       "4    Charmeleon\n",
       "Name: Pokemon, dtype: object"
      ]
     },
     "execution_count": 37,
     "metadata": {},
     "output_type": "execute_result"
    }
   ],
   "source": [
    "pokemon.head()\n",
    "pokemon.head(5)\n",
    "pokemon.head(n=5)\n",
    "#hepsi ilk 5 satırı gösterir."
   ]
  },
  {
   "cell_type": "code",
   "execution_count": 38,
   "id": "11f3abb1",
   "metadata": {},
   "outputs": [
    {
     "data": {
      "text/plain": [
       "0    Bulbasaur\n",
       "Name: Pokemon, dtype: object"
      ]
     },
     "execution_count": 38,
     "metadata": {},
     "output_type": "execute_result"
    }
   ],
   "source": [
    "pokemon.head(1)"
   ]
  },
  {
   "cell_type": "code",
   "execution_count": 39,
   "id": "f9c36785",
   "metadata": {},
   "outputs": [
    {
     "data": {
      "text/plain": [
       "716      Yveltal\n",
       "717      Zygarde\n",
       "718      Diancie\n",
       "719        Hoopa\n",
       "720    Volcanion\n",
       "Name: Pokemon, dtype: object"
      ]
     },
     "execution_count": 39,
     "metadata": {},
     "output_type": "execute_result"
    }
   ],
   "source": [
    "pokemon.tail()\n",
    "pokemon.tail(5)\n",
    "pokemon.tail(n=5)\n",
    "#sondan 5 satırı gösterir."
   ]
  },
  {
   "cell_type": "code",
   "execution_count": 40,
   "id": "fca2534b",
   "metadata": {},
   "outputs": [
    {
     "data": {
      "text/plain": [
       "719        Hoopa\n",
       "720    Volcanion\n",
       "Name: Pokemon, dtype: object"
      ]
     },
     "execution_count": 40,
     "metadata": {},
     "output_type": "execute_result"
    }
   ],
   "source": [
    "pokemon.tail(2)"
   ]
  },
  {
   "cell_type": "code",
   "execution_count": null,
   "id": "7553a298",
   "metadata": {},
   "outputs": [],
   "source": [
    "#built in function"
   ]
  },
  {
   "cell_type": "code",
   "execution_count": 41,
   "id": "034a0cc2",
   "metadata": {},
   "outputs": [
    {
     "data": {
      "text/plain": [
       "721"
      ]
     },
     "execution_count": 41,
     "metadata": {},
     "output_type": "execute_result"
    }
   ],
   "source": [
    "len(pokemon) #elelman sayısı"
   ]
  },
  {
   "cell_type": "code",
   "execution_count": 42,
   "id": "6f8285a7",
   "metadata": {},
   "outputs": [
    {
     "data": {
      "text/plain": [
       "pandas.core.series.Series"
      ]
     },
     "execution_count": 42,
     "metadata": {},
     "output_type": "execute_result"
    }
   ],
   "source": [
    "type(pokemon)"
   ]
  },
  {
   "cell_type": "code",
   "execution_count": 43,
   "id": "ee2de523",
   "metadata": {},
   "outputs": [
    {
     "data": {
      "text/plain": [
       "['T',\n",
       " '_AXIS_LEN',\n",
       " '_AXIS_ORDERS',\n",
       " '_AXIS_REVERSED',\n",
       " '_AXIS_TO_AXIS_NUMBER',\n",
       " '_HANDLED_TYPES',\n",
       " '__abs__',\n",
       " '__add__',\n",
       " '__and__',\n",
       " '__annotations__',\n",
       " '__array__',\n",
       " '__array_priority__',\n",
       " '__array_ufunc__',\n",
       " '__array_wrap__',\n",
       " '__bool__',\n",
       " '__class__',\n",
       " '__contains__',\n",
       " '__copy__',\n",
       " '__deepcopy__',\n",
       " '__delattr__',\n",
       " '__delitem__',\n",
       " '__dict__',\n",
       " '__dir__',\n",
       " '__divmod__',\n",
       " '__doc__',\n",
       " '__eq__',\n",
       " '__finalize__',\n",
       " '__float__',\n",
       " '__floordiv__',\n",
       " '__format__',\n",
       " '__ge__',\n",
       " '__getattr__',\n",
       " '__getattribute__',\n",
       " '__getitem__',\n",
       " '__getstate__',\n",
       " '__gt__',\n",
       " '__hash__',\n",
       " '__iadd__',\n",
       " '__iand__',\n",
       " '__ifloordiv__',\n",
       " '__imod__',\n",
       " '__imul__',\n",
       " '__init__',\n",
       " '__init_subclass__',\n",
       " '__int__',\n",
       " '__invert__',\n",
       " '__ior__',\n",
       " '__ipow__',\n",
       " '__isub__',\n",
       " '__iter__',\n",
       " '__itruediv__',\n",
       " '__ixor__',\n",
       " '__le__',\n",
       " '__len__',\n",
       " '__long__',\n",
       " '__lt__',\n",
       " '__matmul__',\n",
       " '__mod__',\n",
       " '__module__',\n",
       " '__mul__',\n",
       " '__ne__',\n",
       " '__neg__',\n",
       " '__new__',\n",
       " '__nonzero__',\n",
       " '__or__',\n",
       " '__pos__',\n",
       " '__pow__',\n",
       " '__radd__',\n",
       " '__rand__',\n",
       " '__rdivmod__',\n",
       " '__reduce__',\n",
       " '__reduce_ex__',\n",
       " '__repr__',\n",
       " '__rfloordiv__',\n",
       " '__rmatmul__',\n",
       " '__rmod__',\n",
       " '__rmul__',\n",
       " '__ror__',\n",
       " '__round__',\n",
       " '__rpow__',\n",
       " '__rsub__',\n",
       " '__rtruediv__',\n",
       " '__rxor__',\n",
       " '__setattr__',\n",
       " '__setitem__',\n",
       " '__setstate__',\n",
       " '__sizeof__',\n",
       " '__str__',\n",
       " '__sub__',\n",
       " '__subclasshook__',\n",
       " '__truediv__',\n",
       " '__weakref__',\n",
       " '__xor__',\n",
       " '_accessors',\n",
       " '_accum_func',\n",
       " '_add_numeric_operations',\n",
       " '_agg_by_level',\n",
       " '_agg_examples_doc',\n",
       " '_agg_see_also_doc',\n",
       " '_align_frame',\n",
       " '_align_series',\n",
       " '_arith_method',\n",
       " '_as_manager',\n",
       " '_attrs',\n",
       " '_binop',\n",
       " '_cacher',\n",
       " '_can_hold_na',\n",
       " '_check_inplace_and_allows_duplicate_labels',\n",
       " '_check_inplace_setting',\n",
       " '_check_is_chained_assignment_possible',\n",
       " '_check_label_or_level_ambiguity',\n",
       " '_check_setitem_copy',\n",
       " '_clear_item_cache',\n",
       " '_clip_with_one_bound',\n",
       " '_clip_with_scalar',\n",
       " '_cmp_method',\n",
       " '_consolidate',\n",
       " '_consolidate_inplace',\n",
       " '_construct_axes_dict',\n",
       " '_construct_axes_from_arguments',\n",
       " '_construct_result',\n",
       " '_constructor',\n",
       " '_constructor_expanddim',\n",
       " '_convert',\n",
       " '_convert_dtypes',\n",
       " '_data',\n",
       " '_dir_additions',\n",
       " '_dir_deletions',\n",
       " '_drop_axis',\n",
       " '_drop_labels_or_levels',\n",
       " '_duplicated',\n",
       " '_find_valid_index',\n",
       " '_flags',\n",
       " '_from_mgr',\n",
       " '_get_axis',\n",
       " '_get_axis_name',\n",
       " '_get_axis_number',\n",
       " '_get_axis_resolvers',\n",
       " '_get_block_manager_axis',\n",
       " '_get_bool_data',\n",
       " '_get_cacher',\n",
       " '_get_cleaned_column_resolvers',\n",
       " '_get_index_resolvers',\n",
       " '_get_label_or_level_values',\n",
       " '_get_numeric_data',\n",
       " '_get_value',\n",
       " '_get_values',\n",
       " '_get_values_tuple',\n",
       " '_get_with',\n",
       " '_gotitem',\n",
       " '_hidden_attrs',\n",
       " '_index',\n",
       " '_indexed_same',\n",
       " '_info_axis',\n",
       " '_info_axis_name',\n",
       " '_info_axis_number',\n",
       " '_init_dict',\n",
       " '_init_mgr',\n",
       " '_inplace_method',\n",
       " '_internal_names',\n",
       " '_internal_names_set',\n",
       " '_is_cached',\n",
       " '_is_copy',\n",
       " '_is_label_or_level_reference',\n",
       " '_is_label_reference',\n",
       " '_is_level_reference',\n",
       " '_is_mixed_type',\n",
       " '_is_view',\n",
       " '_item_cache',\n",
       " '_ixs',\n",
       " '_logical_func',\n",
       " '_logical_method',\n",
       " '_map_values',\n",
       " '_maybe_update_cacher',\n",
       " '_memory_usage',\n",
       " '_metadata',\n",
       " '_mgr',\n",
       " '_min_count_stat_function',\n",
       " '_name',\n",
       " '_needs_reindex_multi',\n",
       " '_protect_consolidate',\n",
       " '_reduce',\n",
       " '_reindex_axes',\n",
       " '_reindex_indexer',\n",
       " '_reindex_multi',\n",
       " '_reindex_with_indexers',\n",
       " '_replace_single',\n",
       " '_repr_data_resource_',\n",
       " '_repr_latex_',\n",
       " '_reset_cache',\n",
       " '_reset_cacher',\n",
       " '_set_as_cached',\n",
       " '_set_axis',\n",
       " '_set_axis_name',\n",
       " '_set_axis_nocheck',\n",
       " '_set_is_copy',\n",
       " '_set_labels',\n",
       " '_set_name',\n",
       " '_set_value',\n",
       " '_set_values',\n",
       " '_set_with',\n",
       " '_set_with_engine',\n",
       " '_slice',\n",
       " '_stat_axis',\n",
       " '_stat_axis_name',\n",
       " '_stat_axis_number',\n",
       " '_stat_function',\n",
       " '_stat_function_ddof',\n",
       " '_take_with_is_copy',\n",
       " '_typ',\n",
       " '_update_inplace',\n",
       " '_validate_dtype',\n",
       " '_values',\n",
       " '_where',\n",
       " 'abs',\n",
       " 'add',\n",
       " 'add_prefix',\n",
       " 'add_suffix',\n",
       " 'agg',\n",
       " 'aggregate',\n",
       " 'align',\n",
       " 'all',\n",
       " 'any',\n",
       " 'append',\n",
       " 'apply',\n",
       " 'argmax',\n",
       " 'argmin',\n",
       " 'argsort',\n",
       " 'array',\n",
       " 'asfreq',\n",
       " 'asof',\n",
       " 'astype',\n",
       " 'at',\n",
       " 'at_time',\n",
       " 'attrs',\n",
       " 'autocorr',\n",
       " 'axes',\n",
       " 'backfill',\n",
       " 'between',\n",
       " 'between_time',\n",
       " 'bfill',\n",
       " 'bool',\n",
       " 'clip',\n",
       " 'combine',\n",
       " 'combine_first',\n",
       " 'compare',\n",
       " 'convert_dtypes',\n",
       " 'copy',\n",
       " 'corr',\n",
       " 'count',\n",
       " 'cov',\n",
       " 'cummax',\n",
       " 'cummin',\n",
       " 'cumprod',\n",
       " 'cumsum',\n",
       " 'describe',\n",
       " 'diff',\n",
       " 'div',\n",
       " 'divide',\n",
       " 'divmod',\n",
       " 'dot',\n",
       " 'drop',\n",
       " 'drop_duplicates',\n",
       " 'droplevel',\n",
       " 'dropna',\n",
       " 'dtype',\n",
       " 'dtypes',\n",
       " 'duplicated',\n",
       " 'empty',\n",
       " 'eq',\n",
       " 'equals',\n",
       " 'ewm',\n",
       " 'expanding',\n",
       " 'explode',\n",
       " 'factorize',\n",
       " 'ffill',\n",
       " 'fillna',\n",
       " 'filter',\n",
       " 'first',\n",
       " 'first_valid_index',\n",
       " 'flags',\n",
       " 'floordiv',\n",
       " 'ge',\n",
       " 'get',\n",
       " 'groupby',\n",
       " 'gt',\n",
       " 'hasnans',\n",
       " 'head',\n",
       " 'hist',\n",
       " 'iat',\n",
       " 'idxmax',\n",
       " 'idxmin',\n",
       " 'iloc',\n",
       " 'index',\n",
       " 'infer_objects',\n",
       " 'interpolate',\n",
       " 'is_monotonic',\n",
       " 'is_monotonic_decreasing',\n",
       " 'is_monotonic_increasing',\n",
       " 'is_unique',\n",
       " 'isin',\n",
       " 'isna',\n",
       " 'isnull',\n",
       " 'item',\n",
       " 'items',\n",
       " 'iteritems',\n",
       " 'keys',\n",
       " 'kurt',\n",
       " 'kurtosis',\n",
       " 'last',\n",
       " 'last_valid_index',\n",
       " 'le',\n",
       " 'loc',\n",
       " 'lt',\n",
       " 'mad',\n",
       " 'map',\n",
       " 'mask',\n",
       " 'max',\n",
       " 'mean',\n",
       " 'median',\n",
       " 'memory_usage',\n",
       " 'min',\n",
       " 'mod',\n",
       " 'mode',\n",
       " 'mul',\n",
       " 'multiply',\n",
       " 'name',\n",
       " 'nbytes',\n",
       " 'ndim',\n",
       " 'ne',\n",
       " 'nlargest',\n",
       " 'notna',\n",
       " 'notnull',\n",
       " 'nsmallest',\n",
       " 'nunique',\n",
       " 'pad',\n",
       " 'pct_change',\n",
       " 'pipe',\n",
       " 'plot',\n",
       " 'pop',\n",
       " 'pow',\n",
       " 'prod',\n",
       " 'product',\n",
       " 'quantile',\n",
       " 'radd',\n",
       " 'rank',\n",
       " 'ravel',\n",
       " 'rdiv',\n",
       " 'rdivmod',\n",
       " 'reindex',\n",
       " 'reindex_like',\n",
       " 'rename',\n",
       " 'rename_axis',\n",
       " 'reorder_levels',\n",
       " 'repeat',\n",
       " 'replace',\n",
       " 'resample',\n",
       " 'reset_index',\n",
       " 'rfloordiv',\n",
       " 'rmod',\n",
       " 'rmul',\n",
       " 'rolling',\n",
       " 'round',\n",
       " 'rpow',\n",
       " 'rsub',\n",
       " 'rtruediv',\n",
       " 'sample',\n",
       " 'searchsorted',\n",
       " 'sem',\n",
       " 'set_axis',\n",
       " 'set_flags',\n",
       " 'shape',\n",
       " 'shift',\n",
       " 'size',\n",
       " 'skew',\n",
       " 'slice_shift',\n",
       " 'sort_index',\n",
       " 'sort_values',\n",
       " 'squeeze',\n",
       " 'std',\n",
       " 'str',\n",
       " 'sub',\n",
       " 'subtract',\n",
       " 'sum',\n",
       " 'swapaxes',\n",
       " 'swaplevel',\n",
       " 'tail',\n",
       " 'take',\n",
       " 'to_clipboard',\n",
       " 'to_csv',\n",
       " 'to_dict',\n",
       " 'to_excel',\n",
       " 'to_frame',\n",
       " 'to_hdf',\n",
       " 'to_json',\n",
       " 'to_latex',\n",
       " 'to_list',\n",
       " 'to_markdown',\n",
       " 'to_numpy',\n",
       " 'to_period',\n",
       " 'to_pickle',\n",
       " 'to_sql',\n",
       " 'to_string',\n",
       " 'to_timestamp',\n",
       " 'to_xarray',\n",
       " 'transform',\n",
       " 'transpose',\n",
       " 'truediv',\n",
       " 'truncate',\n",
       " 'tz_convert',\n",
       " 'tz_localize',\n",
       " 'unique',\n",
       " 'unstack',\n",
       " 'update',\n",
       " 'value_counts',\n",
       " 'values',\n",
       " 'var',\n",
       " 'view',\n",
       " 'where',\n",
       " 'xs']"
      ]
     },
     "execution_count": 43,
     "metadata": {},
     "output_type": "execute_result"
    }
   ],
   "source": [
    "dir(pokemon) #attributes ve fonskiyonları liste olarak geri döndürür."
   ]
  },
  {
   "cell_type": "code",
   "execution_count": 44,
   "id": "d5a974d3",
   "metadata": {},
   "outputs": [
    {
     "data": {
      "text/plain": [
       "['Abomasnow',\n",
       " 'Abra',\n",
       " 'Absol',\n",
       " 'Accelgor',\n",
       " 'Aegislash',\n",
       " 'Aerodactyl',\n",
       " 'Aggron',\n",
       " 'Aipom',\n",
       " 'Alakazam',\n",
       " 'Alomomola',\n",
       " 'Altaria',\n",
       " 'Amaura',\n",
       " 'Ambipom',\n",
       " 'Amoonguss',\n",
       " 'Ampharos',\n",
       " 'Anorith',\n",
       " 'Arbok',\n",
       " 'Arcanine',\n",
       " 'Arceus',\n",
       " 'Archen',\n",
       " 'Archeops',\n",
       " 'Ariados',\n",
       " 'Armaldo',\n",
       " 'Aromatisse',\n",
       " 'Aron',\n",
       " 'Articuno',\n",
       " 'Audino',\n",
       " 'Aurorus',\n",
       " 'Avalugg',\n",
       " 'Axew',\n",
       " 'Azelf',\n",
       " 'Azumarill',\n",
       " 'Azurill',\n",
       " 'Bagon',\n",
       " 'Baltoy',\n",
       " 'Banette',\n",
       " 'Barbaracle',\n",
       " 'Barboach',\n",
       " 'Basculin',\n",
       " 'Bastiodon',\n",
       " 'Bayleef',\n",
       " 'Beartic',\n",
       " 'Beautifly',\n",
       " 'Beedrill',\n",
       " 'Beheeyem',\n",
       " 'Beldum',\n",
       " 'Bellossom',\n",
       " 'Bellsprout',\n",
       " 'Bergmite',\n",
       " 'Bibarel',\n",
       " 'Bidoof',\n",
       " 'Binacle',\n",
       " 'Bisharp',\n",
       " 'Blastoise',\n",
       " 'Blaziken',\n",
       " 'Blissey',\n",
       " 'Blitzle',\n",
       " 'Boldore',\n",
       " 'Bonsly',\n",
       " 'Bouffalant',\n",
       " 'Braixen',\n",
       " 'Braviary',\n",
       " 'Breloom',\n",
       " 'Bronzong',\n",
       " 'Bronzor',\n",
       " 'Budew',\n",
       " 'Buizel',\n",
       " 'Bulbasaur',\n",
       " 'Buneary',\n",
       " 'Bunnelby',\n",
       " 'Burmy',\n",
       " 'Butterfree',\n",
       " 'Cacnea',\n",
       " 'Cacturne',\n",
       " 'Camerupt',\n",
       " 'Carbink',\n",
       " 'Carnivine',\n",
       " 'Carracosta',\n",
       " 'Carvanha',\n",
       " 'Cascoon',\n",
       " 'Castform',\n",
       " 'Caterpie',\n",
       " 'Celebi',\n",
       " 'Chandelure',\n",
       " 'Chansey',\n",
       " 'Charizard',\n",
       " 'Charmander',\n",
       " 'Charmeleon',\n",
       " 'Chatot',\n",
       " 'Cherrim',\n",
       " 'Cherubi',\n",
       " 'Chesnaught',\n",
       " 'Chespin',\n",
       " 'Chikorita',\n",
       " 'Chimchar',\n",
       " 'Chimecho',\n",
       " 'Chinchou',\n",
       " 'Chingling',\n",
       " 'Cinccino',\n",
       " 'Clamperl',\n",
       " 'Clauncher',\n",
       " 'Clawitzer',\n",
       " 'Claydol',\n",
       " 'Clefable',\n",
       " 'Clefairy',\n",
       " 'Cleffa',\n",
       " 'Cloyster',\n",
       " 'Cobalion',\n",
       " 'Cofagrigus',\n",
       " 'Combee',\n",
       " 'Combusken',\n",
       " 'Conkeldurr',\n",
       " 'Corphish',\n",
       " 'Corsola',\n",
       " 'Cottonee',\n",
       " 'Cradily',\n",
       " 'Cranidos',\n",
       " 'Crawdaunt',\n",
       " 'Cresselia',\n",
       " 'Croagunk',\n",
       " 'Crobat',\n",
       " 'Croconaw',\n",
       " 'Crustle',\n",
       " 'Cryogonal',\n",
       " 'Cubchoo',\n",
       " 'Cubone',\n",
       " 'Cyndaquil',\n",
       " 'Darkrai',\n",
       " 'Darmanitan',\n",
       " 'Darumaka',\n",
       " 'Dedenne',\n",
       " 'Deerling',\n",
       " 'Deino',\n",
       " 'Delcatty',\n",
       " 'Delibird',\n",
       " 'Delphox',\n",
       " 'Deoxys',\n",
       " 'Dewgong',\n",
       " 'Dewott',\n",
       " 'Dialga',\n",
       " 'Diancie',\n",
       " 'Diggersby',\n",
       " 'Diglett',\n",
       " 'Ditto',\n",
       " 'Dodrio',\n",
       " 'Doduo',\n",
       " 'Donphan',\n",
       " 'Doublade',\n",
       " 'Dragalge',\n",
       " 'Dragonair',\n",
       " 'Dragonite',\n",
       " 'Drapion',\n",
       " 'Dratini',\n",
       " 'Drifblim',\n",
       " 'Drifloon',\n",
       " 'Drilbur',\n",
       " 'Drowzee',\n",
       " 'Druddigon',\n",
       " 'Ducklett',\n",
       " 'Dugtrio',\n",
       " 'Dunsparce',\n",
       " 'Duosion',\n",
       " 'Durant',\n",
       " 'Dusclops',\n",
       " 'Dusknoir',\n",
       " 'Duskull',\n",
       " 'Dustox',\n",
       " 'Dwebble',\n",
       " 'Eelektrik',\n",
       " 'Eelektross',\n",
       " 'Eevee',\n",
       " 'Ekans',\n",
       " 'Electabuzz',\n",
       " 'Electivire',\n",
       " 'Electrike',\n",
       " 'Electrode',\n",
       " 'Elekid',\n",
       " 'Elgyem',\n",
       " 'Emboar',\n",
       " 'Emolga',\n",
       " 'Empoleon',\n",
       " 'Entei',\n",
       " 'Escavalier',\n",
       " 'Espeon',\n",
       " 'Espurr',\n",
       " 'Excadrill',\n",
       " 'Exeggcute',\n",
       " 'Exeggutor',\n",
       " 'Exploud',\n",
       " \"Farfetch'd\",\n",
       " 'Fearow',\n",
       " 'Feebas',\n",
       " 'Fennekin',\n",
       " 'Feraligatr',\n",
       " 'Ferroseed',\n",
       " 'Ferrothorn',\n",
       " 'Finneon',\n",
       " 'Flaaffy',\n",
       " 'Flabébé',\n",
       " 'Flareon',\n",
       " 'Fletchinder',\n",
       " 'Fletchling',\n",
       " 'Floatzel',\n",
       " 'Floette',\n",
       " 'Florges',\n",
       " 'Flygon',\n",
       " 'Foongus',\n",
       " 'Forretress',\n",
       " 'Fraxure',\n",
       " 'Frillish',\n",
       " 'Froakie',\n",
       " 'Frogadier',\n",
       " 'Froslass',\n",
       " 'Furfrou',\n",
       " 'Furret',\n",
       " 'Gabite',\n",
       " 'Gallade',\n",
       " 'Galvantula',\n",
       " 'Garbodor',\n",
       " 'Garchomp',\n",
       " 'Gardevoir',\n",
       " 'Gastly',\n",
       " 'Gastrodon',\n",
       " 'Genesect',\n",
       " 'Gengar',\n",
       " 'Geodude',\n",
       " 'Gible',\n",
       " 'Gigalith',\n",
       " 'Girafarig',\n",
       " 'Giratina',\n",
       " 'Glaceon',\n",
       " 'Glalie',\n",
       " 'Glameow',\n",
       " 'Gligar',\n",
       " 'Gliscor',\n",
       " 'Gloom',\n",
       " 'Gogoat',\n",
       " 'Golbat',\n",
       " 'Goldeen',\n",
       " 'Golduck',\n",
       " 'Golem',\n",
       " 'Golett',\n",
       " 'Golurk',\n",
       " 'Goodra',\n",
       " 'Goomy',\n",
       " 'Gorebyss',\n",
       " 'Gothita',\n",
       " 'Gothitelle',\n",
       " 'Gothorita',\n",
       " 'Gourgeist',\n",
       " 'Granbull',\n",
       " 'Graveler',\n",
       " 'Greninja',\n",
       " 'Grimer',\n",
       " 'Grotle',\n",
       " 'Groudon',\n",
       " 'Grovyle',\n",
       " 'Growlithe',\n",
       " 'Grumpig',\n",
       " 'Gulpin',\n",
       " 'Gurdurr',\n",
       " 'Gyarados',\n",
       " 'Happiny',\n",
       " 'Hariyama',\n",
       " 'Haunter',\n",
       " 'Hawlucha',\n",
       " 'Haxorus',\n",
       " 'Heatmor',\n",
       " 'Heatran',\n",
       " 'Heliolisk',\n",
       " 'Helioptile',\n",
       " 'Heracross',\n",
       " 'Herdier',\n",
       " 'Hippopotas',\n",
       " 'Hippowdon',\n",
       " 'Hitmonchan',\n",
       " 'Hitmonlee',\n",
       " 'Hitmontop',\n",
       " 'Ho-oh',\n",
       " 'Honchkrow',\n",
       " 'Honedge',\n",
       " 'Hoopa',\n",
       " 'Hoothoot',\n",
       " 'Hoppip',\n",
       " 'Horsea',\n",
       " 'Houndoom',\n",
       " 'Houndour',\n",
       " 'Huntail',\n",
       " 'Hydreigon',\n",
       " 'Hypno',\n",
       " 'Igglybuff',\n",
       " 'Illumise',\n",
       " 'Infernape',\n",
       " 'Inkay',\n",
       " 'Ivysaur',\n",
       " 'Jellicent',\n",
       " 'Jigglypuff',\n",
       " 'Jirachi',\n",
       " 'Jolteon',\n",
       " 'Joltik',\n",
       " 'Jumpluff',\n",
       " 'Jynx',\n",
       " 'Kabuto',\n",
       " 'Kabutops',\n",
       " 'Kadabra',\n",
       " 'Kakuna',\n",
       " 'Kangaskhan',\n",
       " 'Karrablast',\n",
       " 'Kecleon',\n",
       " 'Keldeo',\n",
       " 'Kingdra',\n",
       " 'Kingler',\n",
       " 'Kirlia',\n",
       " 'Klang',\n",
       " 'Klefki',\n",
       " 'Klink',\n",
       " 'Klinklang',\n",
       " 'Koffing',\n",
       " 'Krabby',\n",
       " 'Kricketot',\n",
       " 'Kricketune',\n",
       " 'Krokorok',\n",
       " 'Krookodile',\n",
       " 'Kyogre',\n",
       " 'Kyurem',\n",
       " 'Lairon',\n",
       " 'Lampent',\n",
       " 'Landorus',\n",
       " 'Lanturn',\n",
       " 'Lapras',\n",
       " 'Larvesta',\n",
       " 'Larvitar',\n",
       " 'Latias',\n",
       " 'Latios',\n",
       " 'Leafeon',\n",
       " 'Leavanny',\n",
       " 'Ledian',\n",
       " 'Ledyba',\n",
       " 'Lickilicky',\n",
       " 'Lickitung',\n",
       " 'Liepard',\n",
       " 'Lileep',\n",
       " 'Lilligant',\n",
       " 'Lillipup',\n",
       " 'Linoone',\n",
       " 'Litleo',\n",
       " 'Litwick',\n",
       " 'Lombre',\n",
       " 'Lopunny',\n",
       " 'Lotad',\n",
       " 'Loudred',\n",
       " 'Lucario',\n",
       " 'Ludicolo',\n",
       " 'Lugia',\n",
       " 'Lumineon',\n",
       " 'Lunatone',\n",
       " 'Luvdisc',\n",
       " 'Luxio',\n",
       " 'Luxray',\n",
       " 'Machamp',\n",
       " 'Machoke',\n",
       " 'Machop',\n",
       " 'Magby',\n",
       " 'Magcargo',\n",
       " 'Magikarp',\n",
       " 'Magmar',\n",
       " 'Magmortar',\n",
       " 'Magnemite',\n",
       " 'Magneton',\n",
       " 'Magnezone',\n",
       " 'Makuhita',\n",
       " 'Malamar',\n",
       " 'Mamoswine',\n",
       " 'Manaphy',\n",
       " 'Mandibuzz',\n",
       " 'Manectric',\n",
       " 'Mankey',\n",
       " 'Mantine',\n",
       " 'Mantyke',\n",
       " 'Maractus',\n",
       " 'Mareep',\n",
       " 'Marill',\n",
       " 'Marowak',\n",
       " 'Marshtomp',\n",
       " 'Masquerain',\n",
       " 'Mawile',\n",
       " 'Medicham',\n",
       " 'Meditite',\n",
       " 'Meganium',\n",
       " 'Meloetta',\n",
       " 'Meowstic',\n",
       " 'Meowth',\n",
       " 'Mesprit',\n",
       " 'Metagross',\n",
       " 'Metang',\n",
       " 'Metapod',\n",
       " 'Mew',\n",
       " 'Mewtwo',\n",
       " 'Mienfoo',\n",
       " 'Mienshao',\n",
       " 'Mightyena',\n",
       " 'Milotic',\n",
       " 'Miltank',\n",
       " 'Mime Jr.',\n",
       " 'Minccino',\n",
       " 'Minun',\n",
       " 'Misdreavus',\n",
       " 'Mismagius',\n",
       " 'Moltres',\n",
       " 'Monferno',\n",
       " 'Mothim',\n",
       " 'Mr. Mime',\n",
       " 'Mudkip',\n",
       " 'Muk',\n",
       " 'Munchlax',\n",
       " 'Munna',\n",
       " 'Murkrow',\n",
       " 'Musharna',\n",
       " 'Natu',\n",
       " 'Nidoking',\n",
       " 'Nidoqueen',\n",
       " 'Nidoran',\n",
       " 'Nidoran♂',\n",
       " 'Nidorina',\n",
       " 'Nidorino',\n",
       " 'Nincada',\n",
       " 'Ninetales',\n",
       " 'Ninjask',\n",
       " 'Noctowl',\n",
       " 'Noibat',\n",
       " 'Noivern',\n",
       " 'Nosepass',\n",
       " 'Numel',\n",
       " 'Nuzleaf',\n",
       " 'Octillery',\n",
       " 'Oddish',\n",
       " 'Omanyte',\n",
       " 'Omastar',\n",
       " 'Onix',\n",
       " 'Oshawott',\n",
       " 'Pachirisu',\n",
       " 'Palkia',\n",
       " 'Palpitoad',\n",
       " 'Pancham',\n",
       " 'Pangoro',\n",
       " 'Panpour',\n",
       " 'Pansage',\n",
       " 'Pansear',\n",
       " 'Paras',\n",
       " 'Parasect',\n",
       " 'Patrat',\n",
       " 'Pawniard',\n",
       " 'Pelipper',\n",
       " 'Persian',\n",
       " 'Petilil',\n",
       " 'Phanpy',\n",
       " 'Phantump',\n",
       " 'Phione',\n",
       " 'Pichu',\n",
       " 'Pidgeot',\n",
       " 'Pidgeotto',\n",
       " 'Pidgey',\n",
       " 'Pidove',\n",
       " 'Pignite',\n",
       " 'Pikachu',\n",
       " 'Piloswine',\n",
       " 'Pineco',\n",
       " 'Pinsir',\n",
       " 'Piplup',\n",
       " 'Plusle',\n",
       " 'Politoed',\n",
       " 'Poliwag',\n",
       " 'Poliwhirl',\n",
       " 'Poliwrath',\n",
       " 'Ponyta',\n",
       " 'Poochyena',\n",
       " 'Porygon',\n",
       " 'Porygon-Z',\n",
       " 'Porygon2',\n",
       " 'Primeape',\n",
       " 'Prinplup',\n",
       " 'Probopass',\n",
       " 'Psyduck',\n",
       " 'Pumpkaboo',\n",
       " 'Pupitar',\n",
       " 'Purrloin',\n",
       " 'Purugly',\n",
       " 'Pyroar',\n",
       " 'Quagsire',\n",
       " 'Quilava',\n",
       " 'Quilladin',\n",
       " 'Qwilfish',\n",
       " 'Raichu',\n",
       " 'Raikou',\n",
       " 'Ralts',\n",
       " 'Rampardos',\n",
       " 'Rapidash',\n",
       " 'Raticate',\n",
       " 'Rattata',\n",
       " 'Rayquaza',\n",
       " 'Regice',\n",
       " 'Regigigas',\n",
       " 'Regirock',\n",
       " 'Registeel',\n",
       " 'Relicanth',\n",
       " 'Remoraid',\n",
       " 'Reshiram',\n",
       " 'Reuniclus',\n",
       " 'Rhydon',\n",
       " 'Rhyhorn',\n",
       " 'Rhyperior',\n",
       " 'Riolu',\n",
       " 'Roggenrola',\n",
       " 'Roselia',\n",
       " 'Roserade',\n",
       " 'Rotom',\n",
       " 'Rufflet',\n",
       " 'Sableye',\n",
       " 'Salamence',\n",
       " 'Samurott',\n",
       " 'Sandile',\n",
       " 'Sandshrew',\n",
       " 'Sandslash',\n",
       " 'Sawk',\n",
       " 'Sawsbuck',\n",
       " 'Scatterbug',\n",
       " 'Sceptile',\n",
       " 'Scizor',\n",
       " 'Scolipede',\n",
       " 'Scrafty',\n",
       " 'Scraggy',\n",
       " 'Scyther',\n",
       " 'Seadra',\n",
       " 'Seaking',\n",
       " 'Sealeo',\n",
       " 'Seedot',\n",
       " 'Seel',\n",
       " 'Seismitoad',\n",
       " 'Sentret',\n",
       " 'Serperior',\n",
       " 'Servine',\n",
       " 'Seviper',\n",
       " 'Sewaddle',\n",
       " 'Sharpedo',\n",
       " 'Shaymin',\n",
       " 'Shedinja',\n",
       " 'Shelgon',\n",
       " 'Shellder',\n",
       " 'Shellos',\n",
       " 'Shelmet',\n",
       " 'Shieldon',\n",
       " 'Shiftry',\n",
       " 'Shinx',\n",
       " 'Shroomish',\n",
       " 'Shuckle',\n",
       " 'Shuppet',\n",
       " 'Sigilyph',\n",
       " 'Silcoon',\n",
       " 'Simipour',\n",
       " 'Simisage',\n",
       " 'Simisear',\n",
       " 'Skarmory',\n",
       " 'Skiddo',\n",
       " 'Skiploom',\n",
       " 'Skitty',\n",
       " 'Skorupi',\n",
       " 'Skrelp',\n",
       " 'Skuntank',\n",
       " 'Slaking',\n",
       " 'Slakoth',\n",
       " 'Sliggoo',\n",
       " 'Slowbro',\n",
       " 'Slowking',\n",
       " 'Slowpoke',\n",
       " 'Slugma',\n",
       " 'Slurpuff',\n",
       " 'Smeargle',\n",
       " 'Smoochum',\n",
       " 'Sneasel',\n",
       " 'Snivy',\n",
       " 'Snorlax',\n",
       " 'Snorunt',\n",
       " 'Snover',\n",
       " 'Snubbull',\n",
       " 'Solosis',\n",
       " 'Solrock',\n",
       " 'Spearow',\n",
       " 'Spewpa',\n",
       " 'Spheal',\n",
       " 'Spinarak',\n",
       " 'Spinda',\n",
       " 'Spiritomb',\n",
       " 'Spoink',\n",
       " 'Spritzee',\n",
       " 'Squirtle',\n",
       " 'Stantler',\n",
       " 'Staraptor',\n",
       " 'Staravia',\n",
       " 'Starly',\n",
       " 'Starmie',\n",
       " 'Staryu',\n",
       " 'Steelix',\n",
       " 'Stoutland',\n",
       " 'Stunfisk',\n",
       " 'Stunky',\n",
       " 'Sudowoodo',\n",
       " 'Suicune',\n",
       " 'Sunflora',\n",
       " 'Sunkern',\n",
       " 'Surskit',\n",
       " 'Swablu',\n",
       " 'Swadloon',\n",
       " 'Swalot',\n",
       " 'Swampert',\n",
       " 'Swanna',\n",
       " 'Swellow',\n",
       " 'Swinub',\n",
       " 'Swirlix',\n",
       " 'Swoobat',\n",
       " 'Sylveon',\n",
       " 'Taillow',\n",
       " 'Talonflame',\n",
       " 'Tangela',\n",
       " 'Tangrowth',\n",
       " 'Tauros',\n",
       " 'Teddiursa',\n",
       " 'Tentacool',\n",
       " 'Tentacruel',\n",
       " 'Tepig',\n",
       " 'Terrakion',\n",
       " 'Throh',\n",
       " 'Thundurus',\n",
       " 'Timburr',\n",
       " 'Tirtouga',\n",
       " 'Togekiss',\n",
       " 'Togepi',\n",
       " 'Togetic',\n",
       " 'Torchic',\n",
       " 'Torkoal',\n",
       " 'Tornadus',\n",
       " 'Torterra',\n",
       " 'Totodile',\n",
       " 'Toxicroak',\n",
       " 'Tranquill',\n",
       " 'Trapinch',\n",
       " 'Treecko',\n",
       " 'Trevenant',\n",
       " 'Tropius',\n",
       " 'Trubbish',\n",
       " 'Turtwig',\n",
       " 'Tympole',\n",
       " 'Tynamo',\n",
       " 'Typhlosion',\n",
       " 'Tyranitar',\n",
       " 'Tyrantrum',\n",
       " 'Tyrogue',\n",
       " 'Tyrunt',\n",
       " 'Umbreon',\n",
       " 'Unfezant',\n",
       " 'Unown',\n",
       " 'Ursaring',\n",
       " 'Uxie',\n",
       " 'Vanillish',\n",
       " 'Vanillite',\n",
       " 'Vanilluxe',\n",
       " 'Vaporeon',\n",
       " 'Venipede',\n",
       " 'Venomoth',\n",
       " 'Venonat',\n",
       " 'Venusaur',\n",
       " 'Vespiquen',\n",
       " 'Vibrava',\n",
       " 'Victini',\n",
       " 'Victreebel',\n",
       " 'Vigoroth',\n",
       " 'Vileplume',\n",
       " 'Virizion',\n",
       " 'Vivillon',\n",
       " 'Volbeat',\n",
       " 'Volcanion',\n",
       " 'Volcarona',\n",
       " 'Voltorb',\n",
       " 'Vullaby',\n",
       " 'Vulpix',\n",
       " 'Wailmer',\n",
       " 'Wailord',\n",
       " 'Walrein',\n",
       " 'Wartortle',\n",
       " 'Watchog',\n",
       " 'Weavile',\n",
       " 'Weedle',\n",
       " 'Weepinbell',\n",
       " 'Weezing',\n",
       " 'Whimsicott',\n",
       " 'Whirlipede',\n",
       " 'Whiscash',\n",
       " 'Whismur',\n",
       " 'Wigglytuff',\n",
       " 'Wingull',\n",
       " 'Wobbuffet',\n",
       " 'Woobat',\n",
       " 'Wooper',\n",
       " 'Wormadam',\n",
       " 'Wurmple',\n",
       " 'Wynaut',\n",
       " 'Xatu',\n",
       " 'Xerneas',\n",
       " 'Yamask',\n",
       " 'Yanma',\n",
       " 'Yanmega',\n",
       " 'Yveltal',\n",
       " 'Zangoose',\n",
       " 'Zapdos',\n",
       " 'Zebstrika',\n",
       " 'Zekrom',\n",
       " 'Zigzagoon',\n",
       " 'Zoroark',\n",
       " 'Zorua',\n",
       " 'Zubat',\n",
       " 'Zweilous',\n",
       " 'Zygarde']"
      ]
     },
     "execution_count": 44,
     "metadata": {},
     "output_type": "execute_result"
    }
   ],
   "source": [
    "sorted(pokemon) #küçükten büyüğe doğru liste olarak geri döndürür."
   ]
  },
  {
   "cell_type": "code",
   "execution_count": 45,
   "id": "eef4dd78",
   "metadata": {},
   "outputs": [
    {
     "data": {
      "text/plain": [
       "['Zygarde',\n",
       " 'Zweilous',\n",
       " 'Zubat',\n",
       " 'Zorua',\n",
       " 'Zoroark',\n",
       " 'Zigzagoon',\n",
       " 'Zekrom',\n",
       " 'Zebstrika',\n",
       " 'Zapdos',\n",
       " 'Zangoose',\n",
       " 'Yveltal',\n",
       " 'Yanmega',\n",
       " 'Yanma',\n",
       " 'Yamask',\n",
       " 'Xerneas',\n",
       " 'Xatu',\n",
       " 'Wynaut',\n",
       " 'Wurmple',\n",
       " 'Wormadam',\n",
       " 'Wooper',\n",
       " 'Woobat',\n",
       " 'Wobbuffet',\n",
       " 'Wingull',\n",
       " 'Wigglytuff',\n",
       " 'Whismur',\n",
       " 'Whiscash',\n",
       " 'Whirlipede',\n",
       " 'Whimsicott',\n",
       " 'Weezing',\n",
       " 'Weepinbell',\n",
       " 'Weedle',\n",
       " 'Weavile',\n",
       " 'Watchog',\n",
       " 'Wartortle',\n",
       " 'Walrein',\n",
       " 'Wailord',\n",
       " 'Wailmer',\n",
       " 'Vulpix',\n",
       " 'Vullaby',\n",
       " 'Voltorb',\n",
       " 'Volcarona',\n",
       " 'Volcanion',\n",
       " 'Volbeat',\n",
       " 'Vivillon',\n",
       " 'Virizion',\n",
       " 'Vileplume',\n",
       " 'Vigoroth',\n",
       " 'Victreebel',\n",
       " 'Victini',\n",
       " 'Vibrava',\n",
       " 'Vespiquen',\n",
       " 'Venusaur',\n",
       " 'Venonat',\n",
       " 'Venomoth',\n",
       " 'Venipede',\n",
       " 'Vaporeon',\n",
       " 'Vanilluxe',\n",
       " 'Vanillite',\n",
       " 'Vanillish',\n",
       " 'Uxie',\n",
       " 'Ursaring',\n",
       " 'Unown',\n",
       " 'Unfezant',\n",
       " 'Umbreon',\n",
       " 'Tyrunt',\n",
       " 'Tyrogue',\n",
       " 'Tyrantrum',\n",
       " 'Tyranitar',\n",
       " 'Typhlosion',\n",
       " 'Tynamo',\n",
       " 'Tympole',\n",
       " 'Turtwig',\n",
       " 'Trubbish',\n",
       " 'Tropius',\n",
       " 'Trevenant',\n",
       " 'Treecko',\n",
       " 'Trapinch',\n",
       " 'Tranquill',\n",
       " 'Toxicroak',\n",
       " 'Totodile',\n",
       " 'Torterra',\n",
       " 'Tornadus',\n",
       " 'Torkoal',\n",
       " 'Torchic',\n",
       " 'Togetic',\n",
       " 'Togepi',\n",
       " 'Togekiss',\n",
       " 'Tirtouga',\n",
       " 'Timburr',\n",
       " 'Thundurus',\n",
       " 'Throh',\n",
       " 'Terrakion',\n",
       " 'Tepig',\n",
       " 'Tentacruel',\n",
       " 'Tentacool',\n",
       " 'Teddiursa',\n",
       " 'Tauros',\n",
       " 'Tangrowth',\n",
       " 'Tangela',\n",
       " 'Talonflame',\n",
       " 'Taillow',\n",
       " 'Sylveon',\n",
       " 'Swoobat',\n",
       " 'Swirlix',\n",
       " 'Swinub',\n",
       " 'Swellow',\n",
       " 'Swanna',\n",
       " 'Swampert',\n",
       " 'Swalot',\n",
       " 'Swadloon',\n",
       " 'Swablu',\n",
       " 'Surskit',\n",
       " 'Sunkern',\n",
       " 'Sunflora',\n",
       " 'Suicune',\n",
       " 'Sudowoodo',\n",
       " 'Stunky',\n",
       " 'Stunfisk',\n",
       " 'Stoutland',\n",
       " 'Steelix',\n",
       " 'Staryu',\n",
       " 'Starmie',\n",
       " 'Starly',\n",
       " 'Staravia',\n",
       " 'Staraptor',\n",
       " 'Stantler',\n",
       " 'Squirtle',\n",
       " 'Spritzee',\n",
       " 'Spoink',\n",
       " 'Spiritomb',\n",
       " 'Spinda',\n",
       " 'Spinarak',\n",
       " 'Spheal',\n",
       " 'Spewpa',\n",
       " 'Spearow',\n",
       " 'Solrock',\n",
       " 'Solosis',\n",
       " 'Snubbull',\n",
       " 'Snover',\n",
       " 'Snorunt',\n",
       " 'Snorlax',\n",
       " 'Snivy',\n",
       " 'Sneasel',\n",
       " 'Smoochum',\n",
       " 'Smeargle',\n",
       " 'Slurpuff',\n",
       " 'Slugma',\n",
       " 'Slowpoke',\n",
       " 'Slowking',\n",
       " 'Slowbro',\n",
       " 'Sliggoo',\n",
       " 'Slakoth',\n",
       " 'Slaking',\n",
       " 'Skuntank',\n",
       " 'Skrelp',\n",
       " 'Skorupi',\n",
       " 'Skitty',\n",
       " 'Skiploom',\n",
       " 'Skiddo',\n",
       " 'Skarmory',\n",
       " 'Simisear',\n",
       " 'Simisage',\n",
       " 'Simipour',\n",
       " 'Silcoon',\n",
       " 'Sigilyph',\n",
       " 'Shuppet',\n",
       " 'Shuckle',\n",
       " 'Shroomish',\n",
       " 'Shinx',\n",
       " 'Shiftry',\n",
       " 'Shieldon',\n",
       " 'Shelmet',\n",
       " 'Shellos',\n",
       " 'Shellder',\n",
       " 'Shelgon',\n",
       " 'Shedinja',\n",
       " 'Shaymin',\n",
       " 'Sharpedo',\n",
       " 'Sewaddle',\n",
       " 'Seviper',\n",
       " 'Servine',\n",
       " 'Serperior',\n",
       " 'Sentret',\n",
       " 'Seismitoad',\n",
       " 'Seel',\n",
       " 'Seedot',\n",
       " 'Sealeo',\n",
       " 'Seaking',\n",
       " 'Seadra',\n",
       " 'Scyther',\n",
       " 'Scraggy',\n",
       " 'Scrafty',\n",
       " 'Scolipede',\n",
       " 'Scizor',\n",
       " 'Sceptile',\n",
       " 'Scatterbug',\n",
       " 'Sawsbuck',\n",
       " 'Sawk',\n",
       " 'Sandslash',\n",
       " 'Sandshrew',\n",
       " 'Sandile',\n",
       " 'Samurott',\n",
       " 'Salamence',\n",
       " 'Sableye',\n",
       " 'Rufflet',\n",
       " 'Rotom',\n",
       " 'Roserade',\n",
       " 'Roselia',\n",
       " 'Roggenrola',\n",
       " 'Riolu',\n",
       " 'Rhyperior',\n",
       " 'Rhyhorn',\n",
       " 'Rhydon',\n",
       " 'Reuniclus',\n",
       " 'Reshiram',\n",
       " 'Remoraid',\n",
       " 'Relicanth',\n",
       " 'Registeel',\n",
       " 'Regirock',\n",
       " 'Regigigas',\n",
       " 'Regice',\n",
       " 'Rayquaza',\n",
       " 'Rattata',\n",
       " 'Raticate',\n",
       " 'Rapidash',\n",
       " 'Rampardos',\n",
       " 'Ralts',\n",
       " 'Raikou',\n",
       " 'Raichu',\n",
       " 'Qwilfish',\n",
       " 'Quilladin',\n",
       " 'Quilava',\n",
       " 'Quagsire',\n",
       " 'Pyroar',\n",
       " 'Purugly',\n",
       " 'Purrloin',\n",
       " 'Pupitar',\n",
       " 'Pumpkaboo',\n",
       " 'Psyduck',\n",
       " 'Probopass',\n",
       " 'Prinplup',\n",
       " 'Primeape',\n",
       " 'Porygon2',\n",
       " 'Porygon-Z',\n",
       " 'Porygon',\n",
       " 'Poochyena',\n",
       " 'Ponyta',\n",
       " 'Poliwrath',\n",
       " 'Poliwhirl',\n",
       " 'Poliwag',\n",
       " 'Politoed',\n",
       " 'Plusle',\n",
       " 'Piplup',\n",
       " 'Pinsir',\n",
       " 'Pineco',\n",
       " 'Piloswine',\n",
       " 'Pikachu',\n",
       " 'Pignite',\n",
       " 'Pidove',\n",
       " 'Pidgey',\n",
       " 'Pidgeotto',\n",
       " 'Pidgeot',\n",
       " 'Pichu',\n",
       " 'Phione',\n",
       " 'Phantump',\n",
       " 'Phanpy',\n",
       " 'Petilil',\n",
       " 'Persian',\n",
       " 'Pelipper',\n",
       " 'Pawniard',\n",
       " 'Patrat',\n",
       " 'Parasect',\n",
       " 'Paras',\n",
       " 'Pansear',\n",
       " 'Pansage',\n",
       " 'Panpour',\n",
       " 'Pangoro',\n",
       " 'Pancham',\n",
       " 'Palpitoad',\n",
       " 'Palkia',\n",
       " 'Pachirisu',\n",
       " 'Oshawott',\n",
       " 'Onix',\n",
       " 'Omastar',\n",
       " 'Omanyte',\n",
       " 'Oddish',\n",
       " 'Octillery',\n",
       " 'Nuzleaf',\n",
       " 'Numel',\n",
       " 'Nosepass',\n",
       " 'Noivern',\n",
       " 'Noibat',\n",
       " 'Noctowl',\n",
       " 'Ninjask',\n",
       " 'Ninetales',\n",
       " 'Nincada',\n",
       " 'Nidorino',\n",
       " 'Nidorina',\n",
       " 'Nidoran♂',\n",
       " 'Nidoran',\n",
       " 'Nidoqueen',\n",
       " 'Nidoking',\n",
       " 'Natu',\n",
       " 'Musharna',\n",
       " 'Murkrow',\n",
       " 'Munna',\n",
       " 'Munchlax',\n",
       " 'Muk',\n",
       " 'Mudkip',\n",
       " 'Mr. Mime',\n",
       " 'Mothim',\n",
       " 'Monferno',\n",
       " 'Moltres',\n",
       " 'Mismagius',\n",
       " 'Misdreavus',\n",
       " 'Minun',\n",
       " 'Minccino',\n",
       " 'Mime Jr.',\n",
       " 'Miltank',\n",
       " 'Milotic',\n",
       " 'Mightyena',\n",
       " 'Mienshao',\n",
       " 'Mienfoo',\n",
       " 'Mewtwo',\n",
       " 'Mew',\n",
       " 'Metapod',\n",
       " 'Metang',\n",
       " 'Metagross',\n",
       " 'Mesprit',\n",
       " 'Meowth',\n",
       " 'Meowstic',\n",
       " 'Meloetta',\n",
       " 'Meganium',\n",
       " 'Meditite',\n",
       " 'Medicham',\n",
       " 'Mawile',\n",
       " 'Masquerain',\n",
       " 'Marshtomp',\n",
       " 'Marowak',\n",
       " 'Marill',\n",
       " 'Mareep',\n",
       " 'Maractus',\n",
       " 'Mantyke',\n",
       " 'Mantine',\n",
       " 'Mankey',\n",
       " 'Manectric',\n",
       " 'Mandibuzz',\n",
       " 'Manaphy',\n",
       " 'Mamoswine',\n",
       " 'Malamar',\n",
       " 'Makuhita',\n",
       " 'Magnezone',\n",
       " 'Magneton',\n",
       " 'Magnemite',\n",
       " 'Magmortar',\n",
       " 'Magmar',\n",
       " 'Magikarp',\n",
       " 'Magcargo',\n",
       " 'Magby',\n",
       " 'Machop',\n",
       " 'Machoke',\n",
       " 'Machamp',\n",
       " 'Luxray',\n",
       " 'Luxio',\n",
       " 'Luvdisc',\n",
       " 'Lunatone',\n",
       " 'Lumineon',\n",
       " 'Lugia',\n",
       " 'Ludicolo',\n",
       " 'Lucario',\n",
       " 'Loudred',\n",
       " 'Lotad',\n",
       " 'Lopunny',\n",
       " 'Lombre',\n",
       " 'Litwick',\n",
       " 'Litleo',\n",
       " 'Linoone',\n",
       " 'Lillipup',\n",
       " 'Lilligant',\n",
       " 'Lileep',\n",
       " 'Liepard',\n",
       " 'Lickitung',\n",
       " 'Lickilicky',\n",
       " 'Ledyba',\n",
       " 'Ledian',\n",
       " 'Leavanny',\n",
       " 'Leafeon',\n",
       " 'Latios',\n",
       " 'Latias',\n",
       " 'Larvitar',\n",
       " 'Larvesta',\n",
       " 'Lapras',\n",
       " 'Lanturn',\n",
       " 'Landorus',\n",
       " 'Lampent',\n",
       " 'Lairon',\n",
       " 'Kyurem',\n",
       " 'Kyogre',\n",
       " 'Krookodile',\n",
       " 'Krokorok',\n",
       " 'Kricketune',\n",
       " 'Kricketot',\n",
       " 'Krabby',\n",
       " 'Koffing',\n",
       " 'Klinklang',\n",
       " 'Klink',\n",
       " 'Klefki',\n",
       " 'Klang',\n",
       " 'Kirlia',\n",
       " 'Kingler',\n",
       " 'Kingdra',\n",
       " 'Keldeo',\n",
       " 'Kecleon',\n",
       " 'Karrablast',\n",
       " 'Kangaskhan',\n",
       " 'Kakuna',\n",
       " 'Kadabra',\n",
       " 'Kabutops',\n",
       " 'Kabuto',\n",
       " 'Jynx',\n",
       " 'Jumpluff',\n",
       " 'Joltik',\n",
       " 'Jolteon',\n",
       " 'Jirachi',\n",
       " 'Jigglypuff',\n",
       " 'Jellicent',\n",
       " 'Ivysaur',\n",
       " 'Inkay',\n",
       " 'Infernape',\n",
       " 'Illumise',\n",
       " 'Igglybuff',\n",
       " 'Hypno',\n",
       " 'Hydreigon',\n",
       " 'Huntail',\n",
       " 'Houndour',\n",
       " 'Houndoom',\n",
       " 'Horsea',\n",
       " 'Hoppip',\n",
       " 'Hoothoot',\n",
       " 'Hoopa',\n",
       " 'Honedge',\n",
       " 'Honchkrow',\n",
       " 'Ho-oh',\n",
       " 'Hitmontop',\n",
       " 'Hitmonlee',\n",
       " 'Hitmonchan',\n",
       " 'Hippowdon',\n",
       " 'Hippopotas',\n",
       " 'Herdier',\n",
       " 'Heracross',\n",
       " 'Helioptile',\n",
       " 'Heliolisk',\n",
       " 'Heatran',\n",
       " 'Heatmor',\n",
       " 'Haxorus',\n",
       " 'Hawlucha',\n",
       " 'Haunter',\n",
       " 'Hariyama',\n",
       " 'Happiny',\n",
       " 'Gyarados',\n",
       " 'Gurdurr',\n",
       " 'Gulpin',\n",
       " 'Grumpig',\n",
       " 'Growlithe',\n",
       " 'Grovyle',\n",
       " 'Groudon',\n",
       " 'Grotle',\n",
       " 'Grimer',\n",
       " 'Greninja',\n",
       " 'Graveler',\n",
       " 'Granbull',\n",
       " 'Gourgeist',\n",
       " 'Gothorita',\n",
       " 'Gothitelle',\n",
       " 'Gothita',\n",
       " 'Gorebyss',\n",
       " 'Goomy',\n",
       " 'Goodra',\n",
       " 'Golurk',\n",
       " 'Golett',\n",
       " 'Golem',\n",
       " 'Golduck',\n",
       " 'Goldeen',\n",
       " 'Golbat',\n",
       " 'Gogoat',\n",
       " 'Gloom',\n",
       " 'Gliscor',\n",
       " 'Gligar',\n",
       " 'Glameow',\n",
       " 'Glalie',\n",
       " 'Glaceon',\n",
       " 'Giratina',\n",
       " 'Girafarig',\n",
       " 'Gigalith',\n",
       " 'Gible',\n",
       " 'Geodude',\n",
       " 'Gengar',\n",
       " 'Genesect',\n",
       " 'Gastrodon',\n",
       " 'Gastly',\n",
       " 'Gardevoir',\n",
       " 'Garchomp',\n",
       " 'Garbodor',\n",
       " 'Galvantula',\n",
       " 'Gallade',\n",
       " 'Gabite',\n",
       " 'Furret',\n",
       " 'Furfrou',\n",
       " 'Froslass',\n",
       " 'Frogadier',\n",
       " 'Froakie',\n",
       " 'Frillish',\n",
       " 'Fraxure',\n",
       " 'Forretress',\n",
       " 'Foongus',\n",
       " 'Flygon',\n",
       " 'Florges',\n",
       " 'Floette',\n",
       " 'Floatzel',\n",
       " 'Fletchling',\n",
       " 'Fletchinder',\n",
       " 'Flareon',\n",
       " 'Flabébé',\n",
       " 'Flaaffy',\n",
       " 'Finneon',\n",
       " 'Ferrothorn',\n",
       " 'Ferroseed',\n",
       " 'Feraligatr',\n",
       " 'Fennekin',\n",
       " 'Feebas',\n",
       " 'Fearow',\n",
       " \"Farfetch'd\",\n",
       " 'Exploud',\n",
       " 'Exeggutor',\n",
       " 'Exeggcute',\n",
       " 'Excadrill',\n",
       " 'Espurr',\n",
       " 'Espeon',\n",
       " 'Escavalier',\n",
       " 'Entei',\n",
       " 'Empoleon',\n",
       " 'Emolga',\n",
       " 'Emboar',\n",
       " 'Elgyem',\n",
       " 'Elekid',\n",
       " 'Electrode',\n",
       " 'Electrike',\n",
       " 'Electivire',\n",
       " 'Electabuzz',\n",
       " 'Ekans',\n",
       " 'Eevee',\n",
       " 'Eelektross',\n",
       " 'Eelektrik',\n",
       " 'Dwebble',\n",
       " 'Dustox',\n",
       " 'Duskull',\n",
       " 'Dusknoir',\n",
       " 'Dusclops',\n",
       " 'Durant',\n",
       " 'Duosion',\n",
       " 'Dunsparce',\n",
       " 'Dugtrio',\n",
       " 'Ducklett',\n",
       " 'Druddigon',\n",
       " 'Drowzee',\n",
       " 'Drilbur',\n",
       " 'Drifloon',\n",
       " 'Drifblim',\n",
       " 'Dratini',\n",
       " 'Drapion',\n",
       " 'Dragonite',\n",
       " 'Dragonair',\n",
       " 'Dragalge',\n",
       " 'Doublade',\n",
       " 'Donphan',\n",
       " 'Doduo',\n",
       " 'Dodrio',\n",
       " 'Ditto',\n",
       " 'Diglett',\n",
       " 'Diggersby',\n",
       " 'Diancie',\n",
       " 'Dialga',\n",
       " 'Dewott',\n",
       " 'Dewgong',\n",
       " 'Deoxys',\n",
       " 'Delphox',\n",
       " 'Delibird',\n",
       " 'Delcatty',\n",
       " 'Deino',\n",
       " 'Deerling',\n",
       " 'Dedenne',\n",
       " 'Darumaka',\n",
       " 'Darmanitan',\n",
       " 'Darkrai',\n",
       " 'Cyndaquil',\n",
       " 'Cubone',\n",
       " 'Cubchoo',\n",
       " 'Cryogonal',\n",
       " 'Crustle',\n",
       " 'Croconaw',\n",
       " 'Crobat',\n",
       " 'Croagunk',\n",
       " 'Cresselia',\n",
       " 'Crawdaunt',\n",
       " 'Cranidos',\n",
       " 'Cradily',\n",
       " 'Cottonee',\n",
       " 'Corsola',\n",
       " 'Corphish',\n",
       " 'Conkeldurr',\n",
       " 'Combusken',\n",
       " 'Combee',\n",
       " 'Cofagrigus',\n",
       " 'Cobalion',\n",
       " 'Cloyster',\n",
       " 'Cleffa',\n",
       " 'Clefairy',\n",
       " 'Clefable',\n",
       " 'Claydol',\n",
       " 'Clawitzer',\n",
       " 'Clauncher',\n",
       " 'Clamperl',\n",
       " 'Cinccino',\n",
       " 'Chingling',\n",
       " 'Chinchou',\n",
       " 'Chimecho',\n",
       " 'Chimchar',\n",
       " 'Chikorita',\n",
       " 'Chespin',\n",
       " 'Chesnaught',\n",
       " 'Cherubi',\n",
       " 'Cherrim',\n",
       " 'Chatot',\n",
       " 'Charmeleon',\n",
       " 'Charmander',\n",
       " 'Charizard',\n",
       " 'Chansey',\n",
       " 'Chandelure',\n",
       " 'Celebi',\n",
       " 'Caterpie',\n",
       " 'Castform',\n",
       " 'Cascoon',\n",
       " 'Carvanha',\n",
       " 'Carracosta',\n",
       " 'Carnivine',\n",
       " 'Carbink',\n",
       " 'Camerupt',\n",
       " 'Cacturne',\n",
       " 'Cacnea',\n",
       " 'Butterfree',\n",
       " 'Burmy',\n",
       " 'Bunnelby',\n",
       " 'Buneary',\n",
       " 'Bulbasaur',\n",
       " 'Buizel',\n",
       " 'Budew',\n",
       " 'Bronzor',\n",
       " 'Bronzong',\n",
       " 'Breloom',\n",
       " 'Braviary',\n",
       " 'Braixen',\n",
       " 'Bouffalant',\n",
       " 'Bonsly',\n",
       " 'Boldore',\n",
       " 'Blitzle',\n",
       " 'Blissey',\n",
       " 'Blaziken',\n",
       " 'Blastoise',\n",
       " 'Bisharp',\n",
       " 'Binacle',\n",
       " 'Bidoof',\n",
       " 'Bibarel',\n",
       " 'Bergmite',\n",
       " 'Bellsprout',\n",
       " 'Bellossom',\n",
       " 'Beldum',\n",
       " 'Beheeyem',\n",
       " 'Beedrill',\n",
       " 'Beautifly',\n",
       " 'Beartic',\n",
       " 'Bayleef',\n",
       " 'Bastiodon',\n",
       " 'Basculin',\n",
       " 'Barboach',\n",
       " 'Barbaracle',\n",
       " 'Banette',\n",
       " 'Baltoy',\n",
       " 'Bagon',\n",
       " 'Azurill',\n",
       " 'Azumarill',\n",
       " 'Azelf',\n",
       " 'Axew',\n",
       " 'Avalugg',\n",
       " 'Aurorus',\n",
       " 'Audino',\n",
       " 'Articuno',\n",
       " 'Aron',\n",
       " 'Aromatisse',\n",
       " 'Armaldo',\n",
       " 'Ariados',\n",
       " 'Archeops',\n",
       " 'Archen',\n",
       " 'Arceus',\n",
       " 'Arcanine',\n",
       " 'Arbok',\n",
       " 'Anorith',\n",
       " 'Ampharos',\n",
       " 'Amoonguss',\n",
       " 'Ambipom',\n",
       " 'Amaura',\n",
       " 'Altaria',\n",
       " 'Alomomola',\n",
       " 'Alakazam',\n",
       " 'Aipom',\n",
       " 'Aggron',\n",
       " 'Aerodactyl',\n",
       " 'Aegislash',\n",
       " 'Accelgor',\n",
       " 'Absol',\n",
       " 'Abra',\n",
       " 'Abomasnow']"
      ]
     },
     "execution_count": 45,
     "metadata": {},
     "output_type": "execute_result"
    }
   ],
   "source": [
    "sorted(pokemon, reverse=True) #büyükten küçüğe"
   ]
  },
  {
   "cell_type": "code",
   "execution_count": null,
   "id": "327f19cf",
   "metadata": {},
   "outputs": [],
   "source": [
    "list(pokemon) #seriden oluşturulmuş liste"
   ]
  },
  {
   "cell_type": "code",
   "execution_count": null,
   "id": "75d85e46",
   "metadata": {},
   "outputs": [],
   "source": [
    "dict(pokemon) #dict yapar. key-> index, value-> değerleri alır."
   ]
  },
  {
   "cell_type": "code",
   "execution_count": null,
   "id": "c0757408",
   "metadata": {},
   "outputs": [],
   "source": [
    "min(pokemon)"
   ]
  },
  {
   "cell_type": "code",
   "execution_count": null,
   "id": "2efd7e40",
   "metadata": {},
   "outputs": [],
   "source": [
    "max(pokemon)"
   ]
  },
  {
   "cell_type": "code",
   "execution_count": 46,
   "id": "6027bba1",
   "metadata": {},
   "outputs": [
    {
     "data": {
      "text/plain": [
       "459    Abomasnow\n",
       "62          Abra\n",
       "358        Absol\n",
       "616     Accelgor\n",
       "680    Aegislash\n",
       "         ...    \n",
       "570      Zoroark\n",
       "569        Zorua\n",
       "40         Zubat\n",
       "633     Zweilous\n",
       "717      Zygarde\n",
       "Name: Pokemon, Length: 721, dtype: object"
      ]
     },
     "execution_count": 46,
     "metadata": {},
     "output_type": "execute_result"
    }
   ],
   "source": [
    "pokemon.sort_values() #seri olarak valuelar küçükten büyüğe doğrudur."
   ]
  },
  {
   "cell_type": "code",
   "execution_count": 47,
   "id": "25b265d1",
   "metadata": {},
   "outputs": [
    {
     "data": {
      "text/plain": [
       "680    Aegislash\n",
       "616     Accelgor\n",
       "358        Absol\n",
       "62          Abra\n",
       "459    Abomasnow\n",
       "Name: Pokemon, dtype: object"
      ]
     },
     "execution_count": 47,
     "metadata": {},
     "output_type": "execute_result"
    }
   ],
   "source": [
    "pokemon.sort_values(ascending=False).tail() #ters çevirir ve sondan 5 tane alır."
   ]
  },
  {
   "cell_type": "code",
   "execution_count": 48,
   "id": "1d663388",
   "metadata": {},
   "outputs": [
    {
     "data": {
      "text/plain": [
       "Pokemon\n",
       "Bulbasaur       Grass\n",
       "Ivysaur         Grass\n",
       "Venusaur        Grass\n",
       "Charmander       Fire\n",
       "Charmeleon       Fire\n",
       "               ...   \n",
       "Yveltal          Dark\n",
       "Zygarde        Dragon\n",
       "Diancie          Rock\n",
       "Hoopa         Psychic\n",
       "Volcanion        Fire\n",
       "Name: Type, Length: 721, dtype: object"
      ]
     },
     "execution_count": 48,
     "metadata": {},
     "output_type": "execute_result"
    }
   ],
   "source": [
    "pokemon=pd.read_csv(\"resources/pokemon.csv\",index_col=\"Pokemon\").squeeze(\"columns\") #ilk column index olur.\n",
    "pokemon"
   ]
  },
  {
   "cell_type": "code",
   "execution_count": null,
   "id": "ddf0a05b",
   "metadata": {},
   "outputs": [],
   "source": [
    "pokemon.sort_index() #indexe göre sıralama yapar. küçükten büğüye"
   ]
  },
  {
   "cell_type": "code",
   "execution_count": 49,
   "id": "dc4a943e",
   "metadata": {},
   "outputs": [
    {
     "data": {
      "text/plain": [
       "Pokemon\n",
       "Zygarde       Dragon\n",
       "Zweilous        Dark\n",
       "Zubat         Poison\n",
       "Zorua           Dark\n",
       "Zoroark         Dark\n",
       "              ...   \n",
       "Aegislash      Steel\n",
       "Accelgor         Bug\n",
       "Absol           Dark\n",
       "Abra         Psychic\n",
       "Abomasnow      Grass\n",
       "Name: Type, Length: 721, dtype: object"
      ]
     },
     "execution_count": 49,
     "metadata": {},
     "output_type": "execute_result"
    }
   ],
   "source": [
    "pokemon.sort_index(ascending=False) #büyükten küçüğe"
   ]
  },
  {
   "cell_type": "code",
   "execution_count": 50,
   "id": "e0aba654",
   "metadata": {},
   "outputs": [
    {
     "data": {
      "text/plain": [
       "True"
      ]
     },
     "execution_count": 50,
     "metadata": {},
     "output_type": "execute_result"
    }
   ],
   "source": [
    "\"e\" in \"merhaba\""
   ]
  },
  {
   "cell_type": "code",
   "execution_count": 51,
   "id": "ed14b19f",
   "metadata": {},
   "outputs": [
    {
     "data": {
      "text/plain": [
       "True"
      ]
     },
     "execution_count": 51,
     "metadata": {},
     "output_type": "execute_result"
    }
   ],
   "source": [
    "1 in [1,2,3,4]"
   ]
  },
  {
   "cell_type": "code",
   "execution_count": 52,
   "id": "3e43b814",
   "metadata": {},
   "outputs": [
    {
     "data": {
      "text/plain": [
       "True"
      ]
     },
     "execution_count": 52,
     "metadata": {},
     "output_type": "execute_result"
    }
   ],
   "source": [
    "\"Abomasnow\" in pokemon #index içinde arar."
   ]
  },
  {
   "cell_type": "code",
   "execution_count": 53,
   "id": "07618e75",
   "metadata": {},
   "outputs": [
    {
     "data": {
      "text/plain": [
       "False"
      ]
     },
     "execution_count": 53,
     "metadata": {},
     "output_type": "execute_result"
    }
   ],
   "source": [
    "150 in pokemon"
   ]
  },
  {
   "cell_type": "code",
   "execution_count": 54,
   "id": "493787b6",
   "metadata": {},
   "outputs": [
    {
     "data": {
      "text/plain": [
       "True"
      ]
     },
     "execution_count": 54,
     "metadata": {},
     "output_type": "execute_result"
    }
   ],
   "source": [
    "\"Dragon\" in pokemon.values #value içinde arar."
   ]
  },
  {
   "cell_type": "code",
   "execution_count": 55,
   "id": "0129692e",
   "metadata": {},
   "outputs": [
    {
     "data": {
      "text/plain": [
       "False"
      ]
     },
     "execution_count": 55,
     "metadata": {},
     "output_type": "execute_result"
    }
   ],
   "source": [
    "\"dragon\" in pokemon.values"
   ]
  },
  {
   "cell_type": "code",
   "execution_count": 56,
   "id": "0ed88fbb",
   "metadata": {},
   "outputs": [
    {
     "data": {
      "text/plain": [
       "'Grass'"
      ]
     },
     "execution_count": 56,
     "metadata": {},
     "output_type": "execute_result"
    }
   ],
   "source": [
    "pokemon[\"Abomasnow\"] #value değerini verir."
   ]
  },
  {
   "cell_type": "code",
   "execution_count": 57,
   "id": "e9fef44b",
   "metadata": {},
   "outputs": [
    {
     "data": {
      "text/plain": [
       "'Grass'"
      ]
     },
     "execution_count": 57,
     "metadata": {},
     "output_type": "execute_result"
    }
   ],
   "source": [
    "pokemon[0] #sayısal index üzerinden de ulaşılabilir."
   ]
  },
  {
   "cell_type": "code",
   "execution_count": 58,
   "id": "f82a2e0c",
   "metadata": {},
   "outputs": [
    {
     "data": {
      "text/plain": [
       "Pokemon\n",
       "Charizard      Fire\n",
       "Metapod         Bug\n",
       "Pidgey       Normal\n",
       "Name: Type, dtype: object"
      ]
     },
     "execution_count": 58,
     "metadata": {},
     "output_type": "execute_result"
    }
   ],
   "source": [
    "pokemon[[5,10,15]] #birden fazla index istenilebilinir. Liste olarak verilmeli"
   ]
  },
  {
   "cell_type": "code",
   "execution_count": 59,
   "id": "8fb81897",
   "metadata": {},
   "outputs": [
    {
     "data": {
      "text/plain": [
       "Pokemon\n",
       "Bulbasaur    Grass\n",
       "Abomasnow    Grass\n",
       "Name: Type, dtype: object"
      ]
     },
     "execution_count": 59,
     "metadata": {},
     "output_type": "execute_result"
    }
   ],
   "source": [
    "pokemon[[\"Bulbasaur\",\"Abomasnow\"]]  #sayısal olmadan ismiyle de index çağrılabilir."
   ]
  },
  {
   "cell_type": "code",
   "execution_count": 60,
   "id": "aacf1aef",
   "metadata": {},
   "outputs": [
    {
     "data": {
      "text/plain": [
       "Pokemon\n",
       "Bulbasaur     Grass\n",
       "Ivysaur       Grass\n",
       "Venusaur      Grass\n",
       "Charmander     Fire\n",
       "Charmeleon     Fire\n",
       "Charizard      Fire\n",
       "Squirtle      Water\n",
       "Wartortle     Water\n",
       "Blastoise     Water\n",
       "Caterpie        Bug\n",
       "Name: Type, dtype: object"
      ]
     },
     "execution_count": 60,
     "metadata": {},
     "output_type": "execute_result"
    }
   ],
   "source": [
    "pokemon[0:10] #0-1- arası index gelir."
   ]
  },
  {
   "cell_type": "code",
   "execution_count": 61,
   "id": "7b459a7a",
   "metadata": {},
   "outputs": [
    {
     "data": {
      "text/plain": [
       "Pokemon\n",
       "Bulbasaur     Grass\n",
       "Venusaur      Grass\n",
       "Charmeleon     Fire\n",
       "Squirtle      Water\n",
       "Blastoise     Water\n",
       "Name: Type, dtype: object"
      ]
     },
     "execution_count": 61,
     "metadata": {},
     "output_type": "execute_result"
    }
   ],
   "source": [
    "pokemon[0:10:2] #2şer 2şer"
   ]
  },
  {
   "cell_type": "code",
   "execution_count": 62,
   "id": "8caa7b99",
   "metadata": {},
   "outputs": [
    {
     "data": {
      "text/plain": [
       "Pokemon\n",
       "Bulbasaur     Grass\n",
       "Ivysaur       Grass\n",
       "Venusaur      Grass\n",
       "Charmander     Fire\n",
       "Charmeleon     Fire\n",
       "Charizard      Fire\n",
       "Squirtle      Water\n",
       "Wartortle     Water\n",
       "Blastoise     Water\n",
       "Caterpie        Bug\n",
       "Name: Type, dtype: object"
      ]
     },
     "execution_count": 62,
     "metadata": {},
     "output_type": "execute_result"
    }
   ],
   "source": [
    "pokemon[:10] #başlangıç verilmezse 0 alır."
   ]
  },
  {
   "cell_type": "code",
   "execution_count": 63,
   "id": "e9aebc0b",
   "metadata": {},
   "outputs": [
    {
     "data": {
      "text/plain": [
       "Pokemon\n",
       "Hawlucha     Fighting\n",
       "Dedenne      Electric\n",
       "Carbink          Rock\n",
       "Goomy          Dragon\n",
       "Sliggoo        Dragon\n",
       "Goodra         Dragon\n",
       "Klefki          Steel\n",
       "Phantump        Ghost\n",
       "Trevenant       Ghost\n",
       "Pumpkaboo       Ghost\n",
       "Gourgeist       Ghost\n",
       "Bergmite          Ice\n",
       "Avalugg           Ice\n",
       "Noibat         Flying\n",
       "Noivern        Flying\n",
       "Xerneas         Fairy\n",
       "Yveltal          Dark\n",
       "Zygarde        Dragon\n",
       "Diancie          Rock\n",
       "Hoopa         Psychic\n",
       "Volcanion        Fire\n",
       "Name: Type, dtype: object"
      ]
     },
     "execution_count": 63,
     "metadata": {},
     "output_type": "execute_result"
    }
   ],
   "source": [
    "pokemon[700:] #verilenden sona kadar."
   ]
  },
  {
   "cell_type": "code",
   "execution_count": 64,
   "id": "651e7150",
   "metadata": {},
   "outputs": [
    {
     "data": {
      "text/plain": [
       "Pokemon\n",
       "Dedenne      Electric\n",
       "Carbink          Rock\n",
       "Goomy          Dragon\n",
       "Sliggoo        Dragon\n",
       "Goodra         Dragon\n",
       "Klefki          Steel\n",
       "Phantump        Ghost\n",
       "Trevenant       Ghost\n",
       "Pumpkaboo       Ghost\n",
       "Gourgeist       Ghost\n",
       "Bergmite          Ice\n",
       "Avalugg           Ice\n",
       "Noibat         Flying\n",
       "Noivern        Flying\n",
       "Xerneas         Fairy\n",
       "Yveltal          Dark\n",
       "Zygarde        Dragon\n",
       "Diancie          Rock\n",
       "Hoopa         Psychic\n",
       "Volcanion        Fire\n",
       "Name: Type, dtype: object"
      ]
     },
     "execution_count": 64,
     "metadata": {},
     "output_type": "execute_result"
    }
   ],
   "source": [
    "pokemon[-20:] #son 20 kaydı getirir. tail(20) ile aynı"
   ]
  },
  {
   "cell_type": "code",
   "execution_count": 65,
   "id": "d815ec84",
   "metadata": {},
   "outputs": [
    {
     "data": {
      "text/plain": [
       "Pokemon\n",
       "Dedenne      Electric\n",
       "Carbink          Rock\n",
       "Goomy          Dragon\n",
       "Sliggoo        Dragon\n",
       "Goodra         Dragon\n",
       "Klefki          Steel\n",
       "Phantump        Ghost\n",
       "Trevenant       Ghost\n",
       "Pumpkaboo       Ghost\n",
       "Gourgeist       Ghost\n",
       "Bergmite          Ice\n",
       "Avalugg           Ice\n",
       "Noibat         Flying\n",
       "Noivern        Flying\n",
       "Xerneas         Fairy\n",
       "Yveltal          Dark\n",
       "Zygarde        Dragon\n",
       "Diancie          Rock\n",
       "Hoopa         Psychic\n",
       "Volcanion        Fire\n",
       "Name: Type, dtype: object"
      ]
     },
     "execution_count": 65,
     "metadata": {},
     "output_type": "execute_result"
    }
   ],
   "source": [
    "pokemon.tail(20)"
   ]
  },
  {
   "cell_type": "code",
   "execution_count": 66,
   "id": "a9444534",
   "metadata": {},
   "outputs": [
    {
     "data": {
      "text/plain": [
       "Pokemon\n",
       "Hawlucha     Fighting\n",
       "Dedenne      Electric\n",
       "Carbink          Rock\n",
       "Goomy          Dragon\n",
       "Sliggoo        Dragon\n",
       "Goodra         Dragon\n",
       "Klefki          Steel\n",
       "Phantump        Ghost\n",
       "Trevenant       Ghost\n",
       "Pumpkaboo       Ghost\n",
       "Gourgeist       Ghost\n",
       "Bergmite          Ice\n",
       "Avalugg           Ice\n",
       "Noibat         Flying\n",
       "Noivern        Flying\n",
       "Xerneas         Fairy\n",
       "Yveltal          Dark\n",
       "Zygarde        Dragon\n",
       "Diancie          Rock\n",
       "Hoopa         Psychic\n",
       "Volcanion        Fire\n",
       "Name: Type, dtype: object"
      ]
     },
     "execution_count": 66,
     "metadata": {},
     "output_type": "execute_result"
    }
   ],
   "source": [
    "pokemon[\"Hawlucha\":\"Volcanion\"] # bu değerler arasını getirir. "
   ]
  },
  {
   "cell_type": "code",
   "execution_count": 67,
   "id": "d3bd419c",
   "metadata": {},
   "outputs": [
    {
     "data": {
      "text/plain": [
       "Pokemon\n",
       "Hawlucha     Fighting\n",
       "Carbink          Rock\n",
       "Sliggoo        Dragon\n",
       "Klefki          Steel\n",
       "Trevenant       Ghost\n",
       "Gourgeist       Ghost\n",
       "Avalugg           Ice\n",
       "Noivern        Flying\n",
       "Yveltal          Dark\n",
       "Diancie          Rock\n",
       "Volcanion        Fire\n",
       "Name: Type, dtype: object"
      ]
     },
     "execution_count": 67,
     "metadata": {},
     "output_type": "execute_result"
    }
   ],
   "source": [
    "pokemon[\"Hawlucha\":\"Volcanion\":2] #2şer 2 şer verir."
   ]
  },
  {
   "cell_type": "code",
   "execution_count": 68,
   "id": "8c4fdf8d",
   "metadata": {},
   "outputs": [
    {
     "data": {
      "text/plain": [
       "'Water'"
      ]
     },
     "execution_count": 68,
     "metadata": {},
     "output_type": "execute_result"
    }
   ],
   "source": [
    "pokemon.get(8)"
   ]
  },
  {
   "cell_type": "code",
   "execution_count": 69,
   "id": "dc10c204",
   "metadata": {},
   "outputs": [
    {
     "data": {
      "text/plain": [
       "'Fire'"
      ]
     },
     "execution_count": 69,
     "metadata": {},
     "output_type": "execute_result"
    }
   ],
   "source": [
    "pokemon.get(\"Volcanion\")"
   ]
  },
  {
   "cell_type": "code",
   "execution_count": 70,
   "id": "23d6f64b",
   "metadata": {},
   "outputs": [
    {
     "data": {
      "text/plain": [
       "Pokemon\n",
       "Charizard        Fire\n",
       "Pidgey         Normal\n",
       "Raichu       Electric\n",
       "Name: Type, dtype: object"
      ]
     },
     "execution_count": 70,
     "metadata": {},
     "output_type": "execute_result"
    }
   ],
   "source": [
    "pokemon.get([5,15,25])"
   ]
  },
  {
   "cell_type": "code",
   "execution_count": 71,
   "id": "ce7b2fd5",
   "metadata": {},
   "outputs": [
    {
     "name": "stdout",
     "output_type": "stream",
     "text": [
      "Hata\n"
     ]
    }
   ],
   "source": [
    "try:\n",
    "    pokemon[\"Digimon\"]\n",
    "except:\n",
    "    print(\"Hata\")\n",
    "    \n",
    "\n",
    "#olmayan değer olduğundan try-except ile yakalnır."
   ]
  },
  {
   "cell_type": "code",
   "execution_count": 72,
   "id": "cf5d3ba4",
   "metadata": {},
   "outputs": [],
   "source": [
    "pokemon.get(1500) #none döndürür olmayan değer için. Hata vermez."
   ]
  },
  {
   "cell_type": "code",
   "execution_count": 73,
   "id": "27ef5662",
   "metadata": {},
   "outputs": [
    {
     "data": {
      "text/plain": [
       "'Yok'"
      ]
     },
     "execution_count": 73,
     "metadata": {},
     "output_type": "execute_result"
    }
   ],
   "source": [
    "pokemon.get(1500,\"Yok\")"
   ]
  },
  {
   "cell_type": "code",
   "execution_count": 74,
   "id": "7a14c402",
   "metadata": {},
   "outputs": [
    {
     "data": {
      "text/plain": [
       "'Bulunamadı'"
      ]
     },
     "execution_count": 74,
     "metadata": {},
     "output_type": "execute_result"
    }
   ],
   "source": [
    "pokemon.get([5,10,1500],\"Bulunamadı\") #Bulunmayan 1 değer olsa bile bulunanları yazmaz."
   ]
  },
  {
   "cell_type": "code",
   "execution_count": null,
   "id": "23804844",
   "metadata": {},
   "outputs": [],
   "source": [
    "pokemon[0]=\"AAAA\" #0. index değişir."
   ]
  },
  {
   "cell_type": "code",
   "execution_count": null,
   "id": "565fd6cb",
   "metadata": {},
   "outputs": [],
   "source": [
    "pokemon.head()"
   ]
  },
  {
   "cell_type": "code",
   "execution_count": null,
   "id": "12f4ca8c",
   "metadata": {},
   "outputs": [],
   "source": [
    "pokemon[\"Bulbasaur\"]=\"BBB\"\n",
    "pokemon.head()"
   ]
  },
  {
   "cell_type": "code",
   "execution_count": 94,
   "id": "f111602b",
   "metadata": {},
   "outputs": [
    {
     "data": {
      "text/plain": [
       "Pokemon\n",
       "Bulbasaur       Grass\n",
       "Ivysaur         Grass\n",
       "Venusaur        Grass\n",
       "Charmander       Fire\n",
       "Charmeleon       Fire\n",
       "               ...   \n",
       "Zygarde        Dragon\n",
       "Diancie          Rock\n",
       "Hoopa         Psychic\n",
       "Volcanion        Fire\n",
       "Loi              CCCC\n",
       "Name: Type, Length: 722, dtype: object"
      ]
     },
     "execution_count": 94,
     "metadata": {},
     "output_type": "execute_result"
    }
   ],
   "source": [
    "pokemon[\"Loi\"]=\"CCCC\" #olmayan değer varsa ekler.\n",
    "pokemon"
   ]
  },
  {
   "cell_type": "code",
   "execution_count": 76,
   "id": "ea380d03",
   "metadata": {},
   "outputs": [
    {
     "data": {
      "text/plain": [
       "Pokemon\n",
       "Bulbasaur     Grass\n",
       "Ivysaur           A\n",
       "Venusaur          B\n",
       "Charmander        C\n",
       "Charmeleon     Fire\n",
       "Name: Type, dtype: object"
      ]
     },
     "execution_count": 76,
     "metadata": {},
     "output_type": "execute_result"
    }
   ],
   "source": [
    "pokemon[[1,2,3]]=[\"A\",\"B\",\"C\"] #toplu değiştirme yapılabilir.\n",
    "pokemon.head()"
   ]
  },
  {
   "cell_type": "code",
   "execution_count": 77,
   "id": "10f442f6",
   "metadata": {},
   "outputs": [
    {
     "data": {
      "text/plain": [
       "Pokemon\n",
       "Bulbasaur       Grass\n",
       "Ivysaur             A\n",
       "Venusaur            B\n",
       "Charmander          C\n",
       "Charmeleon       Fire\n",
       "               ...   \n",
       "Zygarde        Dragon\n",
       "Diancie          Rock\n",
       "Hoopa         Psychic\n",
       "Volcanion        Fire\n",
       "Loi              CCCC\n",
       "Name: Type, Length: 722, dtype: object"
      ]
     },
     "execution_count": 77,
     "metadata": {},
     "output_type": "execute_result"
    }
   ],
   "source": [
    "pokemon"
   ]
  },
  {
   "cell_type": "code",
   "execution_count": 78,
   "id": "b810b50c",
   "metadata": {},
   "outputs": [],
   "source": [
    "pokemon_df=pd.read_csv(\"resources/pokemon.csv\",usecols=[\"Pokemon\"])\n",
    "pokemon_series=pokemon_df.squeeze(\"columns\")"
   ]
  },
  {
   "cell_type": "code",
   "execution_count": 79,
   "id": "fe1f9971",
   "metadata": {},
   "outputs": [
    {
     "data": {
      "text/plain": [
       "0          AAAA\n",
       "1       Ivysaur\n",
       "2      Venusaur\n",
       "3    Charmander\n",
       "4    Charmeleon\n",
       "Name: Pokemon, dtype: object"
      ]
     },
     "execution_count": 79,
     "metadata": {},
     "output_type": "execute_result"
    }
   ],
   "source": [
    "pokemon_series[0]=\"AAAA\" #seri üzerinde yapılan değişklik asıl dataframe i de etkiler. O yüzden kopya al.\n",
    "pokemon_series.head()"
   ]
  },
  {
   "cell_type": "code",
   "execution_count": null,
   "id": "8eb58291",
   "metadata": {},
   "outputs": [],
   "source": [
    "pokemon_df.head() #dataframe değişti."
   ]
  },
  {
   "cell_type": "code",
   "execution_count": null,
   "id": "310291c1",
   "metadata": {},
   "outputs": [],
   "source": [
    "pokemon_series=pokemon_df.squeeze(\"columns\").copy() #kopya aldı."
   ]
  },
  {
   "cell_type": "code",
   "execution_count": 80,
   "id": "1253fcc7",
   "metadata": {},
   "outputs": [],
   "source": [
    "google=(\n",
    "    pd.read_csv(\"resources/google_stock_price.csv\",usecols=[\"Stock Price\"])\n",
    "    .squeeze(\"columns\")\n",
    "    .copy()\n",
    ")"
   ]
  },
  {
   "cell_type": "code",
   "execution_count": 81,
   "id": "516e751a",
   "metadata": {},
   "outputs": [
    {
     "data": {
      "text/plain": [
       "0        50.12\n",
       "1        54.10\n",
       "2        54.65\n",
       "3        52.38\n",
       "4        52.95\n",
       "         ...  \n",
       "3007    772.88\n",
       "3008    771.07\n",
       "3009    773.18\n",
       "3010    771.61\n",
       "3011    782.22\n",
       "Name: Stock Price, Length: 3012, dtype: float64"
      ]
     },
     "execution_count": 81,
     "metadata": {},
     "output_type": "execute_result"
    }
   ],
   "source": [
    "google"
   ]
  },
  {
   "cell_type": "code",
   "execution_count": 82,
   "id": "2d60621f",
   "metadata": {},
   "outputs": [],
   "source": [
    "google.sort_values(inplace=True) #inplace yaptığımız işlemleri kalıcı yapar."
   ]
  },
  {
   "cell_type": "code",
   "execution_count": 83,
   "id": "e6cf46d6",
   "metadata": {},
   "outputs": [
    {
     "data": {
      "text/plain": [
       "11       59.95\n",
       "9        60.07\n",
       "0        60.12\n",
       "10       60.70\n",
       "12       60.74\n",
       "         ...  \n",
       "3010    781.61\n",
       "3007    782.88\n",
       "3009    783.18\n",
       "2859    786.60\n",
       "3011    792.22\n",
       "Name: Stock Price, Length: 3012, dtype: float64"
      ]
     },
     "execution_count": 83,
     "metadata": {},
     "output_type": "execute_result"
    }
   ],
   "source": [
    "google.add(10)"
   ]
  },
  {
   "cell_type": "code",
   "execution_count": 84,
   "id": "025d079d",
   "metadata": {},
   "outputs": [
    {
     "data": {
      "text/plain": [
       "11       499.5\n",
       "9        500.7\n",
       "0        501.2\n",
       "10       507.0\n",
       "12       507.4\n",
       "         ...  \n",
       "3010    7716.1\n",
       "3007    7728.8\n",
       "3009    7731.8\n",
       "2859    7766.0\n",
       "3011    7822.2\n",
       "Name: Stock Price, Length: 3012, dtype: float64"
      ]
     },
     "execution_count": 84,
     "metadata": {},
     "output_type": "execute_result"
    }
   ],
   "source": [
    "google*10"
   ]
  },
  {
   "cell_type": "code",
   "execution_count": 85,
   "id": "15eebd0b",
   "metadata": {},
   "outputs": [
    {
     "data": {
      "text/plain": [
       "Pokemon\n",
       "Bulbasaur       Grass\n",
       "Ivysaur         Grass\n",
       "Venusaur        Grass\n",
       "Charmander       Fire\n",
       "Charmeleon       Fire\n",
       "               ...   \n",
       "Yveltal          Dark\n",
       "Zygarde        Dragon\n",
       "Diancie          Rock\n",
       "Hoopa         Psychic\n",
       "Volcanion        Fire\n",
       "Name: Type, Length: 721, dtype: object"
      ]
     },
     "execution_count": 85,
     "metadata": {},
     "output_type": "execute_result"
    }
   ],
   "source": [
    "pokemon=pd.read_csv(\"resources/pokemon.csv\",index_col=\"Pokemon\").squeeze(\"columns\")\n",
    "pokemon"
   ]
  },
  {
   "cell_type": "code",
   "execution_count": 86,
   "id": "660be5b1",
   "metadata": {},
   "outputs": [
    {
     "data": {
      "text/plain": [
       "Water       105\n",
       "Normal       93\n",
       "Grass        66\n",
       "Bug          63\n",
       "Fire         47\n",
       "Psychic      47\n",
       "Rock         41\n",
       "Electric     36\n",
       "Ground       30\n",
       "Poison       28\n",
       "Dark         28\n",
       "Fighting     25\n",
       "Dragon       24\n",
       "Ghost        23\n",
       "Ice          23\n",
       "Steel        22\n",
       "Fairy        17\n",
       "Flying        3\n",
       "Name: Type, dtype: int64"
      ]
     },
     "execution_count": 86,
     "metadata": {},
     "output_type": "execute_result"
    }
   ],
   "source": [
    "pokemon.value_counts() #değerlere göre sayıları verir."
   ]
  },
  {
   "cell_type": "code",
   "execution_count": 87,
   "id": "d251555f",
   "metadata": {},
   "outputs": [
    {
     "data": {
      "text/plain": [
       "Flying        3\n",
       "Fairy        17\n",
       "Steel        22\n",
       "Ghost        23\n",
       "Ice          23\n",
       "Dragon       24\n",
       "Fighting     25\n",
       "Poison       28\n",
       "Dark         28\n",
       "Ground       30\n",
       "Electric     36\n",
       "Rock         41\n",
       "Psychic      47\n",
       "Fire         47\n",
       "Bug          63\n",
       "Grass        66\n",
       "Normal       93\n",
       "Water       105\n",
       "Name: Type, dtype: int64"
      ]
     },
     "execution_count": 87,
     "metadata": {},
     "output_type": "execute_result"
    }
   ],
   "source": [
    "pokemon.value_counts(ascending=True)"
   ]
  },
  {
   "cell_type": "code",
   "execution_count": 88,
   "id": "ef04ca89",
   "metadata": {},
   "outputs": [
    {
     "data": {
      "text/plain": [
       "Water       14.563107\n",
       "Normal      12.898752\n",
       "Grass        9.153953\n",
       "Bug          8.737864\n",
       "Fire         6.518724\n",
       "Psychic      6.518724\n",
       "Rock         5.686546\n",
       "Electric     4.993065\n",
       "Ground       4.160888\n",
       "Poison       3.883495\n",
       "Dark         3.883495\n",
       "Fighting     3.467406\n",
       "Dragon       3.328710\n",
       "Ghost        3.190014\n",
       "Ice          3.190014\n",
       "Steel        3.051318\n",
       "Fairy        2.357836\n",
       "Flying       0.416089\n",
       "Name: Type, dtype: float64"
      ]
     },
     "execution_count": 88,
     "metadata": {},
     "output_type": "execute_result"
    }
   ],
   "source": [
    "pokemon.value_counts(normalize=True)*100 #yüzdelik değerlerini verir."
   ]
  },
  {
   "cell_type": "code",
   "execution_count": 89,
   "id": "9e5bbaf2",
   "metadata": {},
   "outputs": [
    {
     "data": {
      "text/plain": [
       "Pokemon\n",
       "Bulbasaur     5\n",
       "Ivysaur       5\n",
       "Venusaur      5\n",
       "Charmander    4\n",
       "Charmeleon    4\n",
       "             ..\n",
       "Yveltal       4\n",
       "Zygarde       6\n",
       "Diancie       4\n",
       "Hoopa         7\n",
       "Volcanion     4\n",
       "Name: Type, Length: 721, dtype: int64"
      ]
     },
     "execution_count": 89,
     "metadata": {},
     "output_type": "execute_result"
    }
   ],
   "source": [
    "pokemon.apply(len) #apply-> tüm valuelara fonksiyonu uygulamak için"
   ]
  },
  {
   "cell_type": "code",
   "execution_count": 90,
   "id": "86f299d6",
   "metadata": {},
   "outputs": [],
   "source": [
    "def rank_pokemon(pokemon_type):\n",
    "    if pokemon_type in [\"Grass\",\"Fire\",\"Water\"]:\n",
    "        return \"Classic\"\n",
    "    elif pokemon_type==\"Normal\":\n",
    "        return \"Boring\"\n",
    "    else:\n",
    "        return \"TBD\"\n",
    "    "
   ]
  },
  {
   "cell_type": "code",
   "execution_count": 91,
   "id": "932e913d",
   "metadata": {},
   "outputs": [
    {
     "data": {
      "text/plain": [
       "Pokemon\n",
       "Bulbasaur     Classic\n",
       "Ivysaur       Classic\n",
       "Venusaur      Classic\n",
       "Charmander    Classic\n",
       "Charmeleon    Classic\n",
       "               ...   \n",
       "Yveltal           TBD\n",
       "Zygarde           TBD\n",
       "Diancie           TBD\n",
       "Hoopa             TBD\n",
       "Volcanion     Classic\n",
       "Name: Type, Length: 721, dtype: object"
      ]
     },
     "execution_count": 91,
     "metadata": {},
     "output_type": "execute_result"
    }
   ],
   "source": [
    "pokemon.apply(rank_pokemon)"
   ]
  },
  {
   "cell_type": "code",
   "execution_count": 92,
   "id": "a5d32f55",
   "metadata": {},
   "outputs": [],
   "source": [
    "mappings={\n",
    "    \"Grass\":\"Classic\",\n",
    "    \"Fire\":\"Classic\",\n",
    "    \"Water\":\"Classic\",\n",
    "    \"Normal\":\"Boring\"\n",
    "}"
   ]
  },
  {
   "cell_type": "code",
   "execution_count": 93,
   "id": "019324e5",
   "metadata": {},
   "outputs": [
    {
     "data": {
      "text/plain": [
       "Pokemon\n",
       "Bulbasaur     Classic\n",
       "Ivysaur       Classic\n",
       "Venusaur      Classic\n",
       "Charmander    Classic\n",
       "Charmeleon    Classic\n",
       "               ...   \n",
       "Yveltal           NaN\n",
       "Zygarde           NaN\n",
       "Diancie           NaN\n",
       "Hoopa             NaN\n",
       "Volcanion     Classic\n",
       "Name: Type, Length: 721, dtype: object"
      ]
     },
     "execution_count": 93,
     "metadata": {},
     "output_type": "execute_result"
    }
   ],
   "source": [
    "pokemon.map(mappings) #aynı işlemi yapar ama olmayan değerlere NaN verir."
   ]
  }
 ],
 "metadata": {
  "kernelspec": {
   "display_name": "Python 3 (ipykernel)",
   "language": "python",
   "name": "python3"
  },
  "language_info": {
   "codemirror_mode": {
    "name": "ipython",
    "version": 3
   },
   "file_extension": ".py",
   "mimetype": "text/x-python",
   "name": "python",
   "nbconvert_exporter": "python",
   "pygments_lexer": "ipython3",
   "version": "3.9.12"
  }
 },
 "nbformat": 4,
 "nbformat_minor": 5
}
