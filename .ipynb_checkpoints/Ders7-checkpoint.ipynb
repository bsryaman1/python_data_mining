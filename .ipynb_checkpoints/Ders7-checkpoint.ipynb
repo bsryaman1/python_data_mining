{
 "cells": [
  {
   "cell_type": "code",
   "execution_count": 1,
   "id": "d4e2680c",
   "metadata": {},
   "outputs": [],
   "source": [
    "import pandas as pd\n",
    "import datetime as dt "
   ]
  },
  {
   "cell_type": "code",
   "execution_count": 2,
   "id": "02e4b7a9",
   "metadata": {},
   "outputs": [
    {
     "data": {
      "text/plain": [
       "datetime.date(1976, 1, 23)"
      ]
     },
     "execution_count": 2,
     "metadata": {},
     "output_type": "execute_result"
    }
   ],
   "source": [
    "birthday=dt.date(1976,1,23) #bir tarih tanımlanır. Date turunde nesne olusturur\n",
    "#yıl-ay-gün seklınde bır tarıh tanımlanır\n",
    "birthday"
   ]
  },
  {
   "cell_type": "code",
   "execution_count": 3,
   "id": "f07483fd",
   "metadata": {},
   "outputs": [
    {
     "data": {
      "text/plain": [
       "1976"
      ]
     },
     "execution_count": 3,
     "metadata": {},
     "output_type": "execute_result"
    }
   ],
   "source": [
    "birthday.day#gunu alır\n",
    "birthday.month#ayı alır\n",
    "birthday.year #yılı alır"
   ]
  },
  {
   "cell_type": "code",
   "execution_count": 4,
   "id": "f4cc1b77",
   "metadata": {},
   "outputs": [
    {
     "data": {
      "text/plain": [
       "datetime.datetime(1976, 1, 23, 0, 0)"
      ]
     },
     "execution_count": 4,
     "metadata": {},
     "output_type": "execute_result"
    }
   ],
   "source": [
    "dt.datetime(1976,1,23) #saat olarak geceyarısını verır\n",
    "#datetime sınıfı zaman vermek ıcın"
   ]
  },
  {
   "cell_type": "code",
   "execution_count": 5,
   "id": "4803736a",
   "metadata": {},
   "outputs": [
    {
     "data": {
      "text/plain": [
       "datetime.datetime(1976, 1, 23, 12, 15, 53)"
      ]
     },
     "execution_count": 5,
     "metadata": {},
     "output_type": "execute_result"
    }
   ],
   "source": [
    "dt.datetime(1976,1,23,12,15,53) #bu tarıh ve zamanı tanımlar\n",
    "#yıl-ay-gun-saat-dk-sanıye"
   ]
  },
  {
   "cell_type": "code",
   "execution_count": 6,
   "id": "a31e2bde",
   "metadata": {},
   "outputs": [
    {
     "data": {
      "text/plain": [
       "'1776-01-23 12:15:53'"
      ]
     },
     "execution_count": 6,
     "metadata": {},
     "output_type": "execute_result"
    }
   ],
   "source": [
    "str(dt.datetime(1776,1,23,12,15,53))\n",
    "#strıng yapılarak tam format gozukur"
   ]
  },
  {
   "cell_type": "code",
   "execution_count": 7,
   "id": "70611786",
   "metadata": {},
   "outputs": [],
   "source": [
    "sometime=dt.datetime(1776,1,23,12,15,53)"
   ]
  },
  {
   "cell_type": "code",
   "execution_count": 8,
   "id": "3082fc5d",
   "metadata": {},
   "outputs": [
    {
     "data": {
      "text/plain": [
       "12"
      ]
     },
     "execution_count": 8,
     "metadata": {},
     "output_type": "execute_result"
    }
   ],
   "source": [
    "sometime.hour"
   ]
  },
  {
   "cell_type": "code",
   "execution_count": 9,
   "id": "db1275c9",
   "metadata": {},
   "outputs": [
    {
     "data": {
      "text/plain": [
       "15"
      ]
     },
     "execution_count": 9,
     "metadata": {},
     "output_type": "execute_result"
    }
   ],
   "source": [
    "sometime.minute"
   ]
  },
  {
   "cell_type": "code",
   "execution_count": 10,
   "id": "ae2d54dc",
   "metadata": {},
   "outputs": [
    {
     "data": {
      "text/plain": [
       "53"
      ]
     },
     "execution_count": 10,
     "metadata": {},
     "output_type": "execute_result"
    }
   ],
   "source": [
    "sometime.second"
   ]
  },
  {
   "cell_type": "code",
   "execution_count": 11,
   "id": "5fcbaea3",
   "metadata": {},
   "outputs": [
    {
     "data": {
      "text/plain": [
       "Timestamp('2022-11-21 20:12:24')"
      ]
     },
     "execution_count": 11,
     "metadata": {},
     "output_type": "execute_result"
    }
   ],
   "source": [
    "pd.Timestamp(\"2022/11/21 8:12:24 PM\")"
   ]
  },
  {
   "cell_type": "code",
   "execution_count": 12,
   "id": "9da961ca",
   "metadata": {},
   "outputs": [
    {
     "data": {
      "text/plain": [
       "'21.11.2022'"
      ]
     },
     "execution_count": 12,
     "metadata": {},
     "output_type": "execute_result"
    }
   ],
   "source": [
    "pd.Timestamp(\"2022.11.21\")\n",
    "pd.Timestamp(\"2022-11-21\")\n",
    "pd.Timestamp(\"2022/11/21\")\n",
    "pd.Timestamp(\"2022.11.21 15:22:34\")\n",
    "pd.Timestamp(\"2022.11.21 8:12:24 PM\")\n",
    "pd.Timestamp(\"2022.11.21\").strftime(\"%d.%m.%Y\")\n",
    "#formatlar"
   ]
  },
  {
   "cell_type": "code",
   "execution_count": 13,
   "id": "9cfa08fa",
   "metadata": {},
   "outputs": [
    {
     "data": {
      "text/plain": [
       "Timestamp('2021-11-11 00:00:00')"
      ]
     },
     "execution_count": 13,
     "metadata": {},
     "output_type": "execute_result"
    }
   ],
   "source": [
    "pd.Timestamp(dt.date(2021,11,11))"
   ]
  },
  {
   "cell_type": "code",
   "execution_count": 14,
   "id": "59b9ee1d",
   "metadata": {},
   "outputs": [
    {
     "data": {
      "text/plain": [
       "Timestamp('2021-11-11 15:11:11')"
      ]
     },
     "execution_count": 14,
     "metadata": {},
     "output_type": "execute_result"
    }
   ],
   "source": [
    "pd.Timestamp(dt.datetime(2021,11,11,15,11,11))"
   ]
  },
  {
   "cell_type": "code",
   "execution_count": 15,
   "id": "43b67922",
   "metadata": {},
   "outputs": [],
   "source": [
    "dates=[\"2021-11-11\",\"2019-1-15\",\"1996-10-12\"]"
   ]
  },
  {
   "cell_type": "code",
   "execution_count": 16,
   "id": "8e92be5c",
   "metadata": {},
   "outputs": [
    {
     "data": {
      "text/plain": [
       "DatetimeIndex(['2021-11-11', '2019-01-15', '1996-10-12'], dtype='datetime64[ns]', freq=None)"
      ]
     },
     "execution_count": 16,
     "metadata": {},
     "output_type": "execute_result"
    }
   ],
   "source": [
    "pd.DatetimeIndex(dates)\n",
    "#liste olarak olan verıyı datetime verıtıpne cevırır"
   ]
  },
  {
   "cell_type": "code",
   "execution_count": 17,
   "id": "1f04ed27",
   "metadata": {},
   "outputs": [],
   "source": [
    "dates=[dt.date(2022,11,11),dt.date(2019,1,16),dt.date(2019,2,11)]"
   ]
  },
  {
   "cell_type": "code",
   "execution_count": 18,
   "id": "0f61e680",
   "metadata": {},
   "outputs": [
    {
     "data": {
      "text/plain": [
       "DatetimeIndex(['2022-11-11', '2019-01-16', '2019-02-11'], dtype='datetime64[ns]', freq=None)"
      ]
     },
     "execution_count": 18,
     "metadata": {},
     "output_type": "execute_result"
    }
   ],
   "source": [
    "pd.DatetimeIndex(dates)\n",
    "#string dısında da nesne olarak da gonderılebılır"
   ]
  },
  {
   "cell_type": "code",
   "execution_count": 19,
   "id": "386ddeaa",
   "metadata": {},
   "outputs": [],
   "source": [
    "dates=[\"2021-11-21\",\"2019-1-15\",\"1996-10-12\"]\n",
    "sales=[100,200,300]"
   ]
  },
  {
   "cell_type": "code",
   "execution_count": 20,
   "id": "bac74d67",
   "metadata": {},
   "outputs": [
    {
     "data": {
      "text/plain": [
       "2021-11-21    100\n",
       "2019-01-15    200\n",
       "1996-10-12    300\n",
       "dtype: int64"
      ]
     },
     "execution_count": 20,
     "metadata": {},
     "output_type": "execute_result"
    }
   ],
   "source": [
    "indexes=pd.DatetimeIndex(dates)#datetime a cevrıloır\n",
    "\n",
    "series=pd.Series(sales,index=indexes) #datetime yapılan verılerden serı olustururlur\n",
    "series\n",
    "#datetime yapılmadan da olur ama tarıh uzerınde ıslem yapılmaz"
   ]
  },
  {
   "cell_type": "code",
   "execution_count": 21,
   "id": "964df43d",
   "metadata": {},
   "outputs": [
    {
     "data": {
      "text/plain": [
       "Timestamp('2021-01-15 13:55:15')"
      ]
     },
     "execution_count": 21,
     "metadata": {},
     "output_type": "execute_result"
    }
   ],
   "source": [
    "pd.to_datetime(\"2021-1-15 13:55:15\")"
   ]
  },
  {
   "cell_type": "code",
   "execution_count": 22,
   "id": "149c3049",
   "metadata": {},
   "outputs": [
    {
     "data": {
      "text/plain": [
       "DatetimeIndex(['2021-11-21', '2019-01-15', '1996-10-12'], dtype='datetime64[ns]', freq=None)"
      ]
     },
     "execution_count": 22,
     "metadata": {},
     "output_type": "execute_result"
    }
   ],
   "source": [
    "pd.to_datetime([\"2021-11-21\",\"2019-1-15\",\"1996-10-12\"])\n"
   ]
  },
  {
   "cell_type": "code",
   "execution_count": 23,
   "id": "b89f48de",
   "metadata": {},
   "outputs": [],
   "source": [
    "date_series=pd.Series([\"2021-11-21\",\"2019-1-15\",\"1996-10-12\",\"2016\",\"March 7th,2018\"])\n",
    "#seri olustururldu"
   ]
  },
  {
   "cell_type": "code",
   "execution_count": 24,
   "id": "d7733f0e",
   "metadata": {},
   "outputs": [
    {
     "data": {
      "text/plain": [
       "0        2021-11-21\n",
       "1         2019-1-15\n",
       "2        1996-10-12\n",
       "3              2016\n",
       "4    March 7th,2018\n",
       "dtype: object"
      ]
     },
     "execution_count": 24,
     "metadata": {},
     "output_type": "execute_result"
    }
   ],
   "source": [
    "date_series"
   ]
  },
  {
   "cell_type": "code",
   "execution_count": 25,
   "id": "0c0f240c",
   "metadata": {},
   "outputs": [
    {
     "data": {
      "text/plain": [
       "0   2021-11-21\n",
       "1   2019-01-15\n",
       "2   1996-10-12\n",
       "3   2016-01-01\n",
       "4   2018-03-07\n",
       "dtype: datetime64[ns]"
      ]
     },
     "execution_count": 25,
     "metadata": {},
     "output_type": "execute_result"
    }
   ],
   "source": [
    "pd.to_datetime(date_series)\n",
    "#dt yapınca March ay olarak geldı"
   ]
  },
  {
   "cell_type": "code",
   "execution_count": 26,
   "id": "52486525",
   "metadata": {},
   "outputs": [
    {
     "data": {
      "text/plain": [
       "0        2021-11-21\n",
       "1         2019-1-15\n",
       "2        1996-10-12\n",
       "3              2016\n",
       "4    March 7th,2018\n",
       "5              Ecir\n",
       "6         2024-2-30\n",
       "dtype: object"
      ]
     },
     "execution_count": 26,
     "metadata": {},
     "output_type": "execute_result"
    }
   ],
   "source": [
    "new_series=pd.Series([\"2021-11-21\",\"2019-1-15\",\"1996-10-12\",\"2016\",\"March 7th,2018\",\n",
    "                      \"Ecir\",\"2024-2-30\"])\n",
    "#tarıh formatında olmayan verıler olan seri\n",
    "new_series"
   ]
  },
  {
   "cell_type": "code",
   "execution_count": 27,
   "id": "3c5e3f07",
   "metadata": {},
   "outputs": [
    {
     "ename": "ParserError",
     "evalue": "Unknown string format: Ecir",
     "output_type": "error",
     "traceback": [
      "\u001b[0;31m---------------------------------------------------------------------------\u001b[0m",
      "\u001b[0;31mTypeError\u001b[0m                                 Traceback (most recent call last)",
      "File \u001b[0;32m~/anaconda3/lib/python3.9/site-packages/pandas/core/arrays/datetimes.py:2211\u001b[0m, in \u001b[0;36mobjects_to_datetime64ns\u001b[0;34m(data, dayfirst, yearfirst, utc, errors, require_iso8601, allow_object, allow_mixed)\u001b[0m\n\u001b[1;32m   2210\u001b[0m \u001b[38;5;28;01mtry\u001b[39;00m:\n\u001b[0;32m-> 2211\u001b[0m     values, tz_parsed \u001b[38;5;241m=\u001b[39m \u001b[43mconversion\u001b[49m\u001b[38;5;241;43m.\u001b[39;49m\u001b[43mdatetime_to_datetime64\u001b[49m\u001b[43m(\u001b[49m\u001b[43mdata\u001b[49m\u001b[38;5;241;43m.\u001b[39;49m\u001b[43mravel\u001b[49m\u001b[43m(\u001b[49m\u001b[38;5;124;43m\"\u001b[39;49m\u001b[38;5;124;43mK\u001b[39;49m\u001b[38;5;124;43m\"\u001b[39;49m\u001b[43m)\u001b[49m\u001b[43m)\u001b[49m\n\u001b[1;32m   2212\u001b[0m     \u001b[38;5;66;03m# If tzaware, these values represent unix timestamps, so we\u001b[39;00m\n\u001b[1;32m   2213\u001b[0m     \u001b[38;5;66;03m#  return them as i8 to distinguish from wall times\u001b[39;00m\n",
      "File \u001b[0;32m~/anaconda3/lib/python3.9/site-packages/pandas/_libs/tslibs/conversion.pyx:360\u001b[0m, in \u001b[0;36mpandas._libs.tslibs.conversion.datetime_to_datetime64\u001b[0;34m()\u001b[0m\n",
      "\u001b[0;31mTypeError\u001b[0m: Unrecognized value type: <class 'str'>",
      "\nDuring handling of the above exception, another exception occurred:\n",
      "\u001b[0;31mParserError\u001b[0m                               Traceback (most recent call last)",
      "Input \u001b[0;32mIn [27]\u001b[0m, in \u001b[0;36m<cell line: 1>\u001b[0;34m()\u001b[0m\n\u001b[0;32m----> 1\u001b[0m \u001b[43mpd\u001b[49m\u001b[38;5;241;43m.\u001b[39;49m\u001b[43mto_datetime\u001b[49m\u001b[43m(\u001b[49m\u001b[43mnew_series\u001b[49m\u001b[43m)\u001b[49m\n",
      "File \u001b[0;32m~/anaconda3/lib/python3.9/site-packages/pandas/core/tools/datetimes.py:1051\u001b[0m, in \u001b[0;36mto_datetime\u001b[0;34m(arg, errors, dayfirst, yearfirst, utc, format, exact, unit, infer_datetime_format, origin, cache)\u001b[0m\n\u001b[1;32m   1049\u001b[0m         result \u001b[38;5;241m=\u001b[39m arg\u001b[38;5;241m.\u001b[39mmap(cache_array)\n\u001b[1;32m   1050\u001b[0m     \u001b[38;5;28;01melse\u001b[39;00m:\n\u001b[0;32m-> 1051\u001b[0m         values \u001b[38;5;241m=\u001b[39m \u001b[43mconvert_listlike\u001b[49m\u001b[43m(\u001b[49m\u001b[43marg\u001b[49m\u001b[38;5;241;43m.\u001b[39;49m\u001b[43m_values\u001b[49m\u001b[43m,\u001b[49m\u001b[43m \u001b[49m\u001b[38;5;28;43mformat\u001b[39;49m\u001b[43m)\u001b[49m\n\u001b[1;32m   1052\u001b[0m         result \u001b[38;5;241m=\u001b[39m arg\u001b[38;5;241m.\u001b[39m_constructor(values, index\u001b[38;5;241m=\u001b[39marg\u001b[38;5;241m.\u001b[39mindex, name\u001b[38;5;241m=\u001b[39marg\u001b[38;5;241m.\u001b[39mname)\n\u001b[1;32m   1053\u001b[0m \u001b[38;5;28;01melif\u001b[39;00m \u001b[38;5;28misinstance\u001b[39m(arg, (ABCDataFrame, abc\u001b[38;5;241m.\u001b[39mMutableMapping)):\n",
      "File \u001b[0;32m~/anaconda3/lib/python3.9/site-packages/pandas/core/tools/datetimes.py:402\u001b[0m, in \u001b[0;36m_convert_listlike_datetimes\u001b[0;34m(arg, format, name, tz, unit, errors, infer_datetime_format, dayfirst, yearfirst, exact)\u001b[0m\n\u001b[1;32m    400\u001b[0m \u001b[38;5;28;01massert\u001b[39;00m \u001b[38;5;28mformat\u001b[39m \u001b[38;5;129;01mis\u001b[39;00m \u001b[38;5;28;01mNone\u001b[39;00m \u001b[38;5;129;01mor\u001b[39;00m infer_datetime_format\n\u001b[1;32m    401\u001b[0m utc \u001b[38;5;241m=\u001b[39m tz \u001b[38;5;241m==\u001b[39m \u001b[38;5;124m\"\u001b[39m\u001b[38;5;124mutc\u001b[39m\u001b[38;5;124m\"\u001b[39m\n\u001b[0;32m--> 402\u001b[0m result, tz_parsed \u001b[38;5;241m=\u001b[39m \u001b[43mobjects_to_datetime64ns\u001b[49m\u001b[43m(\u001b[49m\n\u001b[1;32m    403\u001b[0m \u001b[43m    \u001b[49m\u001b[43marg\u001b[49m\u001b[43m,\u001b[49m\n\u001b[1;32m    404\u001b[0m \u001b[43m    \u001b[49m\u001b[43mdayfirst\u001b[49m\u001b[38;5;241;43m=\u001b[39;49m\u001b[43mdayfirst\u001b[49m\u001b[43m,\u001b[49m\n\u001b[1;32m    405\u001b[0m \u001b[43m    \u001b[49m\u001b[43myearfirst\u001b[49m\u001b[38;5;241;43m=\u001b[39;49m\u001b[43myearfirst\u001b[49m\u001b[43m,\u001b[49m\n\u001b[1;32m    406\u001b[0m \u001b[43m    \u001b[49m\u001b[43mutc\u001b[49m\u001b[38;5;241;43m=\u001b[39;49m\u001b[43mutc\u001b[49m\u001b[43m,\u001b[49m\n\u001b[1;32m    407\u001b[0m \u001b[43m    \u001b[49m\u001b[43merrors\u001b[49m\u001b[38;5;241;43m=\u001b[39;49m\u001b[43merrors\u001b[49m\u001b[43m,\u001b[49m\n\u001b[1;32m    408\u001b[0m \u001b[43m    \u001b[49m\u001b[43mrequire_iso8601\u001b[49m\u001b[38;5;241;43m=\u001b[39;49m\u001b[43mrequire_iso8601\u001b[49m\u001b[43m,\u001b[49m\n\u001b[1;32m    409\u001b[0m \u001b[43m    \u001b[49m\u001b[43mallow_object\u001b[49m\u001b[38;5;241;43m=\u001b[39;49m\u001b[38;5;28;43;01mTrue\u001b[39;49;00m\u001b[43m,\u001b[49m\n\u001b[1;32m    410\u001b[0m \u001b[43m\u001b[49m\u001b[43m)\u001b[49m\n\u001b[1;32m    412\u001b[0m \u001b[38;5;28;01mif\u001b[39;00m tz_parsed \u001b[38;5;129;01mis\u001b[39;00m \u001b[38;5;129;01mnot\u001b[39;00m \u001b[38;5;28;01mNone\u001b[39;00m:\n\u001b[1;32m    413\u001b[0m     \u001b[38;5;66;03m# We can take a shortcut since the datetime64 numpy array\u001b[39;00m\n\u001b[1;32m    414\u001b[0m     \u001b[38;5;66;03m# is in UTC\u001b[39;00m\n\u001b[1;32m    415\u001b[0m     dta \u001b[38;5;241m=\u001b[39m DatetimeArray(result, dtype\u001b[38;5;241m=\u001b[39mtz_to_dtype(tz_parsed))\n",
      "File \u001b[0;32m~/anaconda3/lib/python3.9/site-packages/pandas/core/arrays/datetimes.py:2217\u001b[0m, in \u001b[0;36mobjects_to_datetime64ns\u001b[0;34m(data, dayfirst, yearfirst, utc, errors, require_iso8601, allow_object, allow_mixed)\u001b[0m\n\u001b[1;32m   2215\u001b[0m         \u001b[38;5;28;01mreturn\u001b[39;00m values\u001b[38;5;241m.\u001b[39mview(\u001b[38;5;124m\"\u001b[39m\u001b[38;5;124mi8\u001b[39m\u001b[38;5;124m\"\u001b[39m), tz_parsed\n\u001b[1;32m   2216\u001b[0m     \u001b[38;5;28;01mexcept\u001b[39;00m (\u001b[38;5;167;01mValueError\u001b[39;00m, \u001b[38;5;167;01mTypeError\u001b[39;00m):\n\u001b[0;32m-> 2217\u001b[0m         \u001b[38;5;28;01mraise\u001b[39;00m err\n\u001b[1;32m   2219\u001b[0m \u001b[38;5;28;01mif\u001b[39;00m tz_parsed \u001b[38;5;129;01mis\u001b[39;00m \u001b[38;5;129;01mnot\u001b[39;00m \u001b[38;5;28;01mNone\u001b[39;00m:\n\u001b[1;32m   2220\u001b[0m     \u001b[38;5;66;03m# We can take a shortcut since the datetime64 numpy array\u001b[39;00m\n\u001b[1;32m   2221\u001b[0m     \u001b[38;5;66;03m#  is in UTC\u001b[39;00m\n\u001b[1;32m   2222\u001b[0m     \u001b[38;5;66;03m# Return i8 values to denote unix timestamps\u001b[39;00m\n\u001b[1;32m   2223\u001b[0m     \u001b[38;5;28;01mreturn\u001b[39;00m result\u001b[38;5;241m.\u001b[39mview(\u001b[38;5;124m\"\u001b[39m\u001b[38;5;124mi8\u001b[39m\u001b[38;5;124m\"\u001b[39m), tz_parsed\n",
      "File \u001b[0;32m~/anaconda3/lib/python3.9/site-packages/pandas/core/arrays/datetimes.py:2199\u001b[0m, in \u001b[0;36mobjects_to_datetime64ns\u001b[0;34m(data, dayfirst, yearfirst, utc, errors, require_iso8601, allow_object, allow_mixed)\u001b[0m\n\u001b[1;32m   2197\u001b[0m order: Literal[\u001b[38;5;124m\"\u001b[39m\u001b[38;5;124mF\u001b[39m\u001b[38;5;124m\"\u001b[39m, \u001b[38;5;124m\"\u001b[39m\u001b[38;5;124mC\u001b[39m\u001b[38;5;124m\"\u001b[39m] \u001b[38;5;241m=\u001b[39m \u001b[38;5;124m\"\u001b[39m\u001b[38;5;124mF\u001b[39m\u001b[38;5;124m\"\u001b[39m \u001b[38;5;28;01mif\u001b[39;00m flags\u001b[38;5;241m.\u001b[39mf_contiguous \u001b[38;5;28;01melse\u001b[39;00m \u001b[38;5;124m\"\u001b[39m\u001b[38;5;124mC\u001b[39m\u001b[38;5;124m\"\u001b[39m\n\u001b[1;32m   2198\u001b[0m \u001b[38;5;28;01mtry\u001b[39;00m:\n\u001b[0;32m-> 2199\u001b[0m     result, tz_parsed \u001b[38;5;241m=\u001b[39m \u001b[43mtslib\u001b[49m\u001b[38;5;241;43m.\u001b[39;49m\u001b[43marray_to_datetime\u001b[49m\u001b[43m(\u001b[49m\n\u001b[1;32m   2200\u001b[0m \u001b[43m        \u001b[49m\u001b[43mdata\u001b[49m\u001b[38;5;241;43m.\u001b[39;49m\u001b[43mravel\u001b[49m\u001b[43m(\u001b[49m\u001b[38;5;124;43m\"\u001b[39;49m\u001b[38;5;124;43mK\u001b[39;49m\u001b[38;5;124;43m\"\u001b[39;49m\u001b[43m)\u001b[49m\u001b[43m,\u001b[49m\n\u001b[1;32m   2201\u001b[0m \u001b[43m        \u001b[49m\u001b[43merrors\u001b[49m\u001b[38;5;241;43m=\u001b[39;49m\u001b[43merrors\u001b[49m\u001b[43m,\u001b[49m\n\u001b[1;32m   2202\u001b[0m \u001b[43m        \u001b[49m\u001b[43mutc\u001b[49m\u001b[38;5;241;43m=\u001b[39;49m\u001b[43mutc\u001b[49m\u001b[43m,\u001b[49m\n\u001b[1;32m   2203\u001b[0m \u001b[43m        \u001b[49m\u001b[43mdayfirst\u001b[49m\u001b[38;5;241;43m=\u001b[39;49m\u001b[43mdayfirst\u001b[49m\u001b[43m,\u001b[49m\n\u001b[1;32m   2204\u001b[0m \u001b[43m        \u001b[49m\u001b[43myearfirst\u001b[49m\u001b[38;5;241;43m=\u001b[39;49m\u001b[43myearfirst\u001b[49m\u001b[43m,\u001b[49m\n\u001b[1;32m   2205\u001b[0m \u001b[43m        \u001b[49m\u001b[43mrequire_iso8601\u001b[49m\u001b[38;5;241;43m=\u001b[39;49m\u001b[43mrequire_iso8601\u001b[49m\u001b[43m,\u001b[49m\n\u001b[1;32m   2206\u001b[0m \u001b[43m        \u001b[49m\u001b[43mallow_mixed\u001b[49m\u001b[38;5;241;43m=\u001b[39;49m\u001b[43mallow_mixed\u001b[49m\u001b[43m,\u001b[49m\n\u001b[1;32m   2207\u001b[0m \u001b[43m    \u001b[49m\u001b[43m)\u001b[49m\n\u001b[1;32m   2208\u001b[0m     result \u001b[38;5;241m=\u001b[39m result\u001b[38;5;241m.\u001b[39mreshape(data\u001b[38;5;241m.\u001b[39mshape, order\u001b[38;5;241m=\u001b[39morder)\n\u001b[1;32m   2209\u001b[0m \u001b[38;5;28;01mexcept\u001b[39;00m \u001b[38;5;167;01mValueError\u001b[39;00m \u001b[38;5;28;01mas\u001b[39;00m err:\n",
      "File \u001b[0;32m~/anaconda3/lib/python3.9/site-packages/pandas/_libs/tslib.pyx:381\u001b[0m, in \u001b[0;36mpandas._libs.tslib.array_to_datetime\u001b[0;34m()\u001b[0m\n",
      "File \u001b[0;32m~/anaconda3/lib/python3.9/site-packages/pandas/_libs/tslib.pyx:613\u001b[0m, in \u001b[0;36mpandas._libs.tslib.array_to_datetime\u001b[0;34m()\u001b[0m\n",
      "File \u001b[0;32m~/anaconda3/lib/python3.9/site-packages/pandas/_libs/tslib.pyx:751\u001b[0m, in \u001b[0;36mpandas._libs.tslib._array_to_datetime_object\u001b[0;34m()\u001b[0m\n",
      "File \u001b[0;32m~/anaconda3/lib/python3.9/site-packages/pandas/_libs/tslib.pyx:742\u001b[0m, in \u001b[0;36mpandas._libs.tslib._array_to_datetime_object\u001b[0;34m()\u001b[0m\n",
      "File \u001b[0;32m~/anaconda3/lib/python3.9/site-packages/pandas/_libs/tslibs/parsing.pyx:281\u001b[0m, in \u001b[0;36mpandas._libs.tslibs.parsing.parse_datetime_string\u001b[0;34m()\u001b[0m\n",
      "File \u001b[0;32m~/anaconda3/lib/python3.9/site-packages/dateutil/parser/_parser.py:1368\u001b[0m, in \u001b[0;36mparse\u001b[0;34m(timestr, parserinfo, **kwargs)\u001b[0m\n\u001b[1;32m   1366\u001b[0m     \u001b[38;5;28;01mreturn\u001b[39;00m parser(parserinfo)\u001b[38;5;241m.\u001b[39mparse(timestr, \u001b[38;5;241m*\u001b[39m\u001b[38;5;241m*\u001b[39mkwargs)\n\u001b[1;32m   1367\u001b[0m \u001b[38;5;28;01melse\u001b[39;00m:\n\u001b[0;32m-> 1368\u001b[0m     \u001b[38;5;28;01mreturn\u001b[39;00m \u001b[43mDEFAULTPARSER\u001b[49m\u001b[38;5;241;43m.\u001b[39;49m\u001b[43mparse\u001b[49m\u001b[43m(\u001b[49m\u001b[43mtimestr\u001b[49m\u001b[43m,\u001b[49m\u001b[43m \u001b[49m\u001b[38;5;241;43m*\u001b[39;49m\u001b[38;5;241;43m*\u001b[39;49m\u001b[43mkwargs\u001b[49m\u001b[43m)\u001b[49m\n",
      "File \u001b[0;32m~/anaconda3/lib/python3.9/site-packages/dateutil/parser/_parser.py:643\u001b[0m, in \u001b[0;36mparser.parse\u001b[0;34m(self, timestr, default, ignoretz, tzinfos, **kwargs)\u001b[0m\n\u001b[1;32m    640\u001b[0m res, skipped_tokens \u001b[38;5;241m=\u001b[39m \u001b[38;5;28mself\u001b[39m\u001b[38;5;241m.\u001b[39m_parse(timestr, \u001b[38;5;241m*\u001b[39m\u001b[38;5;241m*\u001b[39mkwargs)\n\u001b[1;32m    642\u001b[0m \u001b[38;5;28;01mif\u001b[39;00m res \u001b[38;5;129;01mis\u001b[39;00m \u001b[38;5;28;01mNone\u001b[39;00m:\n\u001b[0;32m--> 643\u001b[0m     \u001b[38;5;28;01mraise\u001b[39;00m ParserError(\u001b[38;5;124m\"\u001b[39m\u001b[38;5;124mUnknown string format: \u001b[39m\u001b[38;5;132;01m%s\u001b[39;00m\u001b[38;5;124m\"\u001b[39m, timestr)\n\u001b[1;32m    645\u001b[0m \u001b[38;5;28;01mif\u001b[39;00m \u001b[38;5;28mlen\u001b[39m(res) \u001b[38;5;241m==\u001b[39m \u001b[38;5;241m0\u001b[39m:\n\u001b[1;32m    646\u001b[0m     \u001b[38;5;28;01mraise\u001b[39;00m ParserError(\u001b[38;5;124m\"\u001b[39m\u001b[38;5;124mString does not contain a date: \u001b[39m\u001b[38;5;132;01m%s\u001b[39;00m\u001b[38;5;124m\"\u001b[39m, timestr)\n",
      "\u001b[0;31mParserError\u001b[0m: Unknown string format: Ecir"
     ]
    }
   ],
   "source": [
    "pd.to_datetime(new_series)\n",
    "#hata verır cunku tarıhe uymayan verıler var"
   ]
  },
  {
   "cell_type": "code",
   "execution_count": null,
   "id": "74391757",
   "metadata": {},
   "outputs": [],
   "source": [
    "pd.to_datetime(new_series,errors=\"coerce\")\n",
    "#tarıh olmayan verıler NaT-> not a time yapar"
   ]
  },
  {
   "cell_type": "code",
   "execution_count": null,
   "id": "473cf417",
   "metadata": {},
   "outputs": [],
   "source": [
    "pd.to_datetime([1539929246,1571465],unit=\"s\")\n",
    "\n",
    "#linux 1-1-1970 den gunumuze kadar olan lınux tıme dır.\n",
    "#linux time degerlerını gunumuz tarıhıne cevırır\n"
   ]
  },
  {
   "cell_type": "code",
   "execution_count": null,
   "id": "564dadf0",
   "metadata": {},
   "outputs": [],
   "source": [
    "time=pd.date_range(start=\"2022-11-1\",end=\"2022-11-15\")\n",
    "#gun bazında bu aralıktaki tarihleri datetime index nesnesıne ekler\n",
    "time"
   ]
  },
  {
   "cell_type": "code",
   "execution_count": null,
   "id": "c69d72a0",
   "metadata": {},
   "outputs": [],
   "source": [
    "type(time)\n",
    "#kendısı dt nesnesı"
   ]
  },
  {
   "cell_type": "code",
   "execution_count": null,
   "id": "8769f31d",
   "metadata": {},
   "outputs": [],
   "source": [
    "type(time[0])\n",
    "#içindeki elelmanlar timestamps nesnesı"
   ]
  },
  {
   "cell_type": "code",
   "execution_count": null,
   "id": "8a64e0b8",
   "metadata": {},
   "outputs": [],
   "source": [
    "pd.date_range(start=\"2022-11-1\",end=\"2022-11-15\",freq=\"2D\")\n",
    "#2ser gun aralıkla yazar"
   ]
  },
  {
   "cell_type": "code",
   "execution_count": null,
   "id": "c3733aa0",
   "metadata": {},
   "outputs": [],
   "source": [
    "time=pd.date_range(start=\"2022-11-1\",end=\"2022-11-15\",freq=\"B\")\n",
    "#sadece business day leri alır\n",
    "time"
   ]
  },
  {
   "cell_type": "code",
   "execution_count": null,
   "id": "73d57cee",
   "metadata": {},
   "outputs": [],
   "source": [
    "pd.date_range(start=\"2022-11-1\",end=\"2022-11-15\",freq=\"W\")\n",
    "#hafta basını default olarak sunday alır\n"
   ]
  },
  {
   "cell_type": "code",
   "execution_count": null,
   "id": "9a241e90",
   "metadata": {},
   "outputs": [],
   "source": [
    "pd.date_range(start=\"2022-11-1\",end=\"2022-11-15\",freq=\"W-MON\")\n",
    "#hafta bası monday alınır- Week Start"
   ]
  },
  {
   "cell_type": "code",
   "execution_count": null,
   "id": "04bd3eb5",
   "metadata": {},
   "outputs": [],
   "source": [
    "pd.date_range(start=\"2022-11-1\",end=\"2022-11-15\",freq=\"6H\")\n",
    "#saat bazında boler. istenılen saat aralıgı verılebılır. Bu 6sar saat"
   ]
  },
  {
   "cell_type": "code",
   "execution_count": null,
   "id": "78c7a608",
   "metadata": {},
   "outputs": [],
   "source": [
    "pd.date_range(start=\"2022-1-1\",end=\"2022-11-15\",freq=\"M\")\n",
    "#Her ayın sonunu alarak boler- Month"
   ]
  },
  {
   "cell_type": "code",
   "execution_count": null,
   "id": "43a43039",
   "metadata": {},
   "outputs": [],
   "source": [
    "pd.date_range(start=\"2022-1-1\",end=\"2022-11-15\",freq=\"MS\")\n",
    "#ayların basını alarak boler- Month Start"
   ]
  },
  {
   "cell_type": "code",
   "execution_count": null,
   "id": "0bec6208",
   "metadata": {},
   "outputs": [],
   "source": [
    "pd.date_range(start=\"2022-11-1\",end=\"2050-11-15\",freq=\"Y\")\n",
    "#YIL BAZINDA BOLER"
   ]
  },
  {
   "cell_type": "code",
   "execution_count": null,
   "id": "adbe5421",
   "metadata": {},
   "outputs": [],
   "source": [
    "pd.date_range(start=\"2022-11-1\",end=\"2050-11-15\",freq=\"YS\")\n",
    "#Yılların basını alarak boler-Year Start"
   ]
  },
  {
   "cell_type": "code",
   "execution_count": null,
   "id": "d9cfdbc2",
   "metadata": {},
   "outputs": [],
   "source": [
    "temp_dates=pd.date_range(start=\"2000-01-01\",end=\"2010-12-31\",freq=\"24D\")\n",
    "temp_dates\n",
    "#24 gün aralıklarla bu tarih aralığını verir"
   ]
  },
  {
   "cell_type": "code",
   "execution_count": null,
   "id": "c71d97b3",
   "metadata": {},
   "outputs": [],
   "source": [
    "temp_series=pd.Series(temp_dates)\n",
    "temp_series.head()\n",
    "#seri olarak verir"
   ]
  },
  {
   "cell_type": "code",
   "execution_count": null,
   "id": "0f5a391f",
   "metadata": {},
   "outputs": [],
   "source": [
    "temp_series.dt.day\n",
    "#datetime olarak günleri verir"
   ]
  },
  {
   "cell_type": "code",
   "execution_count": null,
   "id": "6204490f",
   "metadata": {},
   "outputs": [],
   "source": [
    "temp_series.dt.day_name()\n",
    "#günlerin adlarını verir"
   ]
  },
  {
   "cell_type": "code",
   "execution_count": null,
   "id": "4e2ccb3d",
   "metadata": {},
   "outputs": [],
   "source": [
    "temp_series.dt.year\n"
   ]
  },
  {
   "cell_type": "code",
   "execution_count": null,
   "id": "a06e59b2",
   "metadata": {},
   "outputs": [],
   "source": [
    "temp_series.dt.month"
   ]
  },
  {
   "cell_type": "code",
   "execution_count": null,
   "id": "9d7a93bb",
   "metadata": {},
   "outputs": [],
   "source": [
    "temp_series[temp_series.dt.is_quarter_start]\n",
    "#ceyrek baslangıcları verır"
   ]
  },
  {
   "cell_type": "code",
   "execution_count": null,
   "id": "576792ea",
   "metadata": {},
   "outputs": [],
   "source": [
    "from pandas_datareader import data"
   ]
  },
  {
   "cell_type": "code",
   "execution_count": null,
   "id": "918aa857",
   "metadata": {},
   "outputs": [],
   "source": [
    "data.DataReader(name=\"MSFT\",data_source=\"yahoo\",start=\"2012-01-01\",end=\"2022-10-31\")\n",
    "#hısse senetlerını bu tarıh aralıkta degerını dataframe olarak verır"
   ]
  },
  {
   "cell_type": "code",
   "execution_count": null,
   "id": "3e9ddbb7",
   "metadata": {},
   "outputs": [],
   "source": [
    "stocks=data.DataReader(name=\"MSFT\",data_source=\"yahoo\",start=\"2012-01-01\",end=\"2022-10-31\")\n",
    "stocks.head()"
   ]
  },
  {
   "cell_type": "code",
   "execution_count": null,
   "id": "bebff5ea",
   "metadata": {},
   "outputs": [],
   "source": [
    "stocks.loc[\"2012-01-06\"]"
   ]
  },
  {
   "cell_type": "code",
   "execution_count": null,
   "id": "2cfa1361",
   "metadata": {},
   "outputs": [],
   "source": [
    "stocks.loc[\"2014-1-1\":\"2016-1-1\"]\n",
    "stocks.truncate(before=\"2014-1-1\",after=\"2016-1-1\")\n",
    "#o tarıhten oncesını ve sonrasını o tarıhler dahıl olmadan sıler->truncate"
   ]
  },
  {
   "cell_type": "code",
   "execution_count": null,
   "id": "ea9dd070",
   "metadata": {},
   "outputs": [],
   "source": [
    "pd.date_range(start=\"2002-11-11\",end=\"2022-11-11\",freq=pd.DateOffset(years=1))\n",
    "#tum tarıhlerı ıstedıgın aralıkta ıstedıgın gıbı(year=1) ılerlemenı saglar"
   ]
  },
  {
   "cell_type": "code",
   "execution_count": null,
   "id": "0c7337d9",
   "metadata": {},
   "outputs": [],
   "source": [
    "stocks.insert(0,\"Day_of_Date\",stocks.index.day_name())\n",
    "#day of date olarak 0. column olsuturur ve verilen tarıhlerın gun karsılıhgını verır"
   ]
  },
  {
   "cell_type": "code",
   "execution_count": null,
   "id": "f6bfdd11",
   "metadata": {},
   "outputs": [],
   "source": [
    "stocks"
   ]
  },
  {
   "cell_type": "code",
   "execution_count": null,
   "id": "bb2745e9",
   "metadata": {},
   "outputs": [],
   "source": [
    "stocks.index + pd.DateOffset(days=5)\n",
    "stocks.index + pd.DateOffset(years=5,months=1,days=10,hours=5,minutes=2)\n",
    "#indexlere verılen deger kadar her bırıne ekler"
   ]
  },
  {
   "cell_type": "code",
   "execution_count": null,
   "id": "8eb56ae5",
   "metadata": {},
   "outputs": [],
   "source": [
    "first_time=pd.Timestamp(\"2020-03-31\")\n",
    "second_time=pd.Timestamp(\"2022-01-01\")\n",
    "first_time-second_time\n",
    "#iki tarıh arasındakı fark timedalta nesne turunde gosterılır"
   ]
  },
  {
   "cell_type": "code",
   "execution_count": null,
   "id": "8e6fdba0",
   "metadata": {},
   "outputs": [],
   "source": [
    "first_time=pd.Timestamp(\"2023-03-31 13:00:09AM\")\n",
    "second_time=pd.Timestamp(\"2022-01-01 14:30:08PM\")\n",
    "first_time-second_time"
   ]
  },
  {
   "cell_type": "code",
   "execution_count": null,
   "id": "1acdc162",
   "metadata": {},
   "outputs": [],
   "source": [
    "first_time=pd.Timestamp(\"2020-03-31\")"
   ]
  },
  {
   "cell_type": "code",
   "execution_count": null,
   "id": "1f4926b8",
   "metadata": {},
   "outputs": [],
   "source": [
    "first_time+pd.Timedelta(weeks=8,days=3,hours=12,minutes=45,seconds=30)"
   ]
  },
  {
   "cell_type": "code",
   "execution_count": null,
   "id": "27be03ed",
   "metadata": {},
   "outputs": [],
   "source": [
    "pd.Timedelta(\"5 minutes\")"
   ]
  },
  {
   "cell_type": "code",
   "execution_count": null,
   "id": "cacc2b39",
   "metadata": {},
   "outputs": [],
   "source": [
    "pd.Timedelta(\"5 minutes 10 seconds\")"
   ]
  },
  {
   "cell_type": "code",
   "execution_count": null,
   "id": "84b2ad1a",
   "metadata": {},
   "outputs": [],
   "source": [
    "pd.Timedelta(\"10 days 3 hours 5 minutes  55 seconds\")"
   ]
  },
  {
   "cell_type": "code",
   "execution_count": 30,
   "id": "69b52f60",
   "metadata": {},
   "outputs": [],
   "source": [
    "#grafık cızme;\n",
    "import matplotlib.pyplot as plt\n",
    "%matplotlib inline"
   ]
  },
  {
   "cell_type": "code",
   "execution_count": 32,
   "id": "f1ebb3c8",
   "metadata": {},
   "outputs": [
    {
     "data": {
      "image/png": "[encoded data removed]",
      "text/plain": [
       "<Figure size 432x288 with 3 Axes>"
      ]
     },
     "metadata": {
      "needs_background": "light"
     },
     "output_type": "display_data"
    }
   ],
   "source": [
    "''' \n",
    "matplotlib-> grafik olusturan kutuphane\n",
    "x label->x ekseni\n",
    "lşne plot->xe karsılık gelen y degeri\n",
    "legend->her rengin acıklaması\n",
    "figure->her grafıgı alanlara ayırarak bolme\n",
    "axes-> figure cızılen alanları ayırma \n",
    "\n",
    "plt.plot()->cizgi grafıgı cızme; color parametresi:cızgılere renk verır.\n",
    "          içine verieln x ve y değerlerine gore de grafık cızebılır. \n",
    "          label parametresı ıle cızgılere ısım verılebılır. legend kısmında gosterılır \n",
    "plt.axis()->figureyı verılen degerlere gore ayırarak cızer\n",
    "plt.title()->grafıge baslık verır\n",
    "plt.xlabel()->x eksenıne ısım verır\n",
    "plt.show()->grafıgı gosterme\n",
    "\n",
    "fig,axs=plt.subplots(2) #tek fıguru 2 kısma ayrıma\n",
    "axs[0].plot(x) #axs kısımlarını cızme\n",
    "axs[1].plot(y) #axs[].set_title() ile axse ısım verılebılır.\n",
    "plt.show() #garfıklerı cızme\n",
    "#Burada fıgure ıle grafık 2 kısma ayrıldı ve 2 ayrı grafık verılen axis kısımlarına cızıldı\n",
    "#plt.subplots(2,2) gibi matrıs seklınde de ayrılabılır\n",
    "#Yanı plotlar aynı grafık ıcerısıne alınabılır veya aynı fıgur ıcınde bırden fazla grafık olusturulabılır\n",
    "'''\n",
    "df=pd.read_csv(\"resources/nba.csv\")\n",
    "df=df.drop([\"Number\"],axis=1).groupby(\"Team\").mean()\n",
    "#Takıma gore grupladı cıkısı drop ettı ve ortalamaları cızgı garfıgı ıcın ayırdı\n",
    "df.plot(subplots=True) #subplots ile colummları ayrı ayrı ayırır.\n",
    "#df.head().plot() seklınde ılk 5 takım ıcın de grafık cızılebılır.\n",
    "plt.show() #ekranda cızme sonucunu gosterır\n"
   ]
  },
  {
   "cell_type": "code",
   "execution_count": null,
   "id": "63b13b0e",
   "metadata": {},
   "outputs": [],
   "source": [
    "'''\n",
    "figure=plt.figure() ->figure tanımlama\n",
    "#figsize parametresı ıle boyut verılır.\n",
    "fig,ax=plt.subplots()->parametre verılmezse tek fıgure tek alan olustur\n",
    "\n",
    "ax[0].plot(x,y)\n",
    "ax[0].set_title(\"\")\n",
    "#ilk grafıgı -axes- olusturma ve isim atama\n",
    "'''"
   ]
  },
  {
   "cell_type": "code",
   "execution_count": null,
   "id": "2e0e878a",
   "metadata": {},
   "outputs": [],
   "source": [
    "'''\n",
    "plot -çizgi-  dısındakı grafık turlerı;\n",
    "\n",
    "plt.stackplot()->yıgın garfıgı. cızgılerın ıcı dolu\n",
    "\n",
    "'''"
   ]
  },
  {
   "cell_type": "code",
   "execution_count": null,
   "id": "cacbef8d",
   "metadata": {},
   "outputs": [],
   "source": [
    "stocks.plot()\n",
    "#sayısal alanları içeren grafik çizer"
   ]
  },
  {
   "cell_type": "code",
   "execution_count": null,
   "id": "6209adfb",
   "metadata": {},
   "outputs": [],
   "source": [
    "stocks #plot en yüksek alanları içeren şeye göre grafik yapar"
   ]
  },
  {
   "cell_type": "code",
   "execution_count": null,
   "id": "f0a43ccd",
   "metadata": {},
   "outputs": [],
   "source": [
    "stocks.plot(y=\"Close\")#sadece bir sütunu görmek için böylle yapılır"
   ]
  },
  {
   "cell_type": "code",
   "execution_count": null,
   "id": "f56f29b7",
   "metadata": {},
   "outputs": [],
   "source": [
    "stocks.plot(y=[\"Close\",\"High\"])"
   ]
  },
  {
   "cell_type": "code",
   "execution_count": null,
   "id": "c87a3ed3",
   "metadata": {},
   "outputs": [],
   "source": [
    "plt.style.available#mümkün olan stiller"
   ]
  },
  {
   "cell_type": "code",
   "execution_count": null,
   "id": "8027f377",
   "metadata": {},
   "outputs": [],
   "source": [
    "plt.style.use(\"fivethirtyeight\")#stilleri kullanmak için bu metod kullanılır\n",
    "stocks.plot(y=\"Close\")"
   ]
  },
  {
   "cell_type": "code",
   "execution_count": null,
   "id": "586dfc68",
   "metadata": {},
   "outputs": [],
   "source": [
    "def rank_performance(stock_price):\n",
    "    if stock_price<=10:\n",
    "        return \"poor\"\n",
    "    elif stock_price<=50:\n",
    "        return \"satisfactory\"\n",
    "    else:\n",
    "        return \"Stellar\""
   ]
  },
  {
   "cell_type": "code",
   "execution_count": null,
   "id": "16fa9439",
   "metadata": {},
   "outputs": [],
   "source": [
    "stocks[\"Close\"].apply(rank_performance).value_counts().plot(kind=\"pie\",legend=True)\n",
    "#kind=bar hangi elemandan kaç tane geçtiğini gösterir\n",
    "#barh değiştirir şekli\n",
    "#pie pasta şeklinde gösterir\n",
    "#legend her rengiin neyi gösterdiğini söyler\n"
   ]
  }
 ],
 "metadata": {
  "kernelspec": {
   "display_name": "Python 3 (ipykernel)",
   "language": "python",
   "name": "python3"
  },
  "language_info": {
   "codemirror_mode": {
    "name": "ipython",
    "version": 3
   },
   "file_extension": ".py",
   "mimetype": "text/x-python",
   "name": "python",
   "nbconvert_exporter": "python",
   "pygments_lexer": "ipython3",
   "version": "3.9.12"
  }
 },
 "nbformat": 4,
 "nbformat_minor": 5
}
